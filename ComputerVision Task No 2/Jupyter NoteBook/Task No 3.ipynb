{
 "cells": [
  {
   "cell_type": "markdown",
   "id": "85cff9b2",
   "metadata": {},
   "source": [
    "<b>Module"
   ]
  },
  {
   "cell_type": "code",
   "execution_count": 34,
   "id": "e1361bbd",
   "metadata": {},
   "outputs": [],
   "source": [
    "import cv2\n",
    "from PIL import Image\n",
    "import numpy as np\n",
    "import os\n",
    "import random\n",
    "from keras.preprocessing import image\n",
    "from keras.preprocessing.image import ImageDataGenerator "
   ]
  },
  {
   "cell_type": "markdown",
   "id": "acc501de",
   "metadata": {},
   "source": [
    "<b>Generate New Dataset with Different Angle "
   ]
  },
  {
   "cell_type": "code",
   "execution_count": 32,
   "id": "bf8cc682",
   "metadata": {},
   "outputs": [],
   "source": [
    "# Create the Object of Data Augmentation\n",
    "imgs_path = \"E:\\\\software\\\\Task2\\\\cat_dog\"\n",
    "\n",
    "for image in os.listdir(imgs_path)[:-1]:\n",
    "    # Get the Image Path\n",
    "    img_path = os.path.join(imgs_path , image)\n",
    "    \n",
    "    # Read the Image\n",
    "    image_dog = Image.open(\n",
    "        img_path\n",
    "    )\n",
    "    \n",
    "    # Now Convert the Image into Numpy Array\n",
    "    numpy_image = np.array(image_dog)\n",
    "    \n",
    "    # Now Reshape the Image\n",
    "    input_batch = cv2.resize(numpy_image , (400,400)).reshape((1,400,400,3))\n",
    "    \n",
    "    # Create the Dummy Dataset with the Help of Data Augmentation\n",
    "    for index in range(5,361,5):\n",
    "        # Create the Object of Image-Data-Generator\n",
    "        data_gen = ImageDataGenerator(\n",
    "            rotation_range = index,\n",
    "            fill_mode = \"constant\",\n",
    "        )\n",
    "    \n",
    "        i = 0\n",
    "        for output in data_gen.flow(input_batch , batch_size = 64 , save_to_dir = \"E:\\\\software\\\\Task2\\\\rotation\\\\\"):\n",
    "            i += 1\n",
    "            if i == 1:\n",
    "                break"
   ]
  },
  {
   "cell_type": "markdown",
   "id": "4d91044d",
   "metadata": {},
   "source": [
    "<b> Generate the new Dataset with Different Brightness"
   ]
  },
  {
   "cell_type": "code",
   "execution_count": 33,
   "id": "653e352f",
   "metadata": {},
   "outputs": [],
   "source": [
    "# Create the Object of Data Augmentation\n",
    "imgs_path = \"E:\\\\software\\\\Task2\\\\cat_dog\"\n",
    "\n",
    "for image in os.listdir(imgs_path)[:-1]:\n",
    "    # Get the Image Path\n",
    "    img_path = os.path.join(imgs_path , image)\n",
    "    \n",
    "    # Read the Image\n",
    "    image_dog = Image.open(\n",
    "        img_path\n",
    "    )\n",
    "    \n",
    "    # Now Convert the Image into Numpy Array\n",
    "    numpy_image = np.array(image_dog)\n",
    "    \n",
    "    # Now Reshape the Image\n",
    "    input_batch = cv2.resize(numpy_image , (400,400)).reshape((1,400,400,3))\n",
    "    \n",
    "    # Create the Dummy Dataset with the Help of Data Augmentation\n",
    "    \n",
    "    # Create the Object of Image-Data-Generator\n",
    "    data_gen = ImageDataGenerator(\n",
    "        brightness_range = (0.0 , 1.5),\n",
    "        fill_mode = \"constant\",\n",
    "    )\n",
    "\n",
    "    i = 0\n",
    "    for output in data_gen.flow(input_batch , batch_size = 64 , save_to_dir = \"E:\\\\software\\\\Task2\\\\brightness\\\\\"):\n",
    "        i += 1\n",
    "        if i == 5:\n",
    "            break"
   ]
  },
  {
   "cell_type": "markdown",
   "id": "39ee95fe",
   "metadata": {},
   "source": [
    "<b>Generate the New Dataset with Different Noise"
   ]
  },
  {
   "cell_type": "code",
   "execution_count": 35,
   "id": "ca32351f",
   "metadata": {},
   "outputs": [],
   "source": [
    "def add_noise(img):\n",
    "    VARIABILITY = 50\n",
    "    deviation = VARIABILITY*random.random()\n",
    "    noise = np.random.normal(0, deviation, img.shape)\n",
    "    img += noise\n",
    "    np.clip(img, 0., 255.)\n",
    "    return img"
   ]
  },
  {
   "cell_type": "code",
   "execution_count": 36,
   "id": "52953c25",
   "metadata": {},
   "outputs": [],
   "source": [
    "# Create the Object of Data Augmentation\n",
    "imgs_path = \"E:\\\\software\\\\Task2\\\\cat_dog\"\n",
    "\n",
    "for image in os.listdir(imgs_path)[:-1]:\n",
    "    # Get the Image Path\n",
    "    img_path = os.path.join(imgs_path , image)\n",
    "    \n",
    "    # Read the Image\n",
    "    image_dog = Image.open(\n",
    "        img_path\n",
    "    )\n",
    "    \n",
    "    # Now Convert the Image into Numpy Array\n",
    "    numpy_image = np.array(image_dog)\n",
    "    \n",
    "    # Now Reshape the Image\n",
    "    input_batch = cv2.resize(numpy_image , (400,400)).reshape((1,400,400,3))\n",
    "    \n",
    "    # Create the Dummy Dataset with the Help of Data Augmentation\n",
    "    \n",
    "    # Create the Object of Image-Data-Generator\n",
    "    data_gen = ImageDataGenerator(\n",
    "        brightness_range = (0.0 , 1.5),\n",
    "        preprocessing_function=add_noise,\n",
    "        fill_mode = \"constant\",\n",
    "    )\n",
    "\n",
    "    i = 0\n",
    "    for output in data_gen.flow(input_batch , batch_size = 64 , save_to_dir = \"E:\\\\software\\\\Task2\\\\Noise\\\\\"):\n",
    "        i += 1\n",
    "        if i == 5:\n",
    "            break"
   ]
  },
  {
   "cell_type": "code",
   "execution_count": null,
   "id": "633d05f0",
   "metadata": {},
   "outputs": [],
   "source": []
  }
 ],
 "metadata": {
  "kernelspec": {
   "display_name": "Python 3 (ipykernel)",
   "language": "python",
   "name": "python3"
  },
  "language_info": {
   "codemirror_mode": {
    "name": "ipython",
    "version": 3
   },
   "file_extension": ".py",
   "mimetype": "text/x-python",
   "name": "python",
   "nbconvert_exporter": "python",
   "pygments_lexer": "ipython3",
   "version": "3.9.12"
  }
 },
 "nbformat": 4,
 "nbformat_minor": 5
}
