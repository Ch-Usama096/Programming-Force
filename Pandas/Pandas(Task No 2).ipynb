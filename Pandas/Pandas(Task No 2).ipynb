{
 "cells": [
  {
   "cell_type": "code",
   "execution_count": 1,
   "id": "5b135e80",
   "metadata": {},
   "outputs": [],
   "source": [
    "import pandas as pd\n",
    "import numpy as np\n",
    "import seaborn as sns\n",
    "import matplotlib.pyplot as plt\n",
    "from sklearn.preprocessing import LabelEncoder , OneHotEncoder\n",
    "from sklearn.preprocessing import MinMaxScaler , StandardScaler"
   ]
  },
  {
   "cell_type": "markdown",
   "id": "085909f1",
   "metadata": {},
   "source": [
    "<b>Dataset"
   ]
  },
  {
   "cell_type": "code",
   "execution_count": 2,
   "id": "d7e00ea6",
   "metadata": {},
   "outputs": [],
   "source": [
    "# Read the Dataset\n",
    "dataset_1 = pd.read_excel(\"online_retail_II.xlsx\" , sheet_name = \"Year 2009-2010\")\n",
    "dataset_2 = pd.read_excel(\"online_retail_II.xlsx\" , sheet_name = \"Year 2010-2011\")"
   ]
  },
  {
   "cell_type": "code",
   "execution_count": 3,
   "id": "184d9726",
   "metadata": {},
   "outputs": [
    {
     "data": {
      "text/html": [
       "<div>\n",
       "<style scoped>\n",
       "    .dataframe tbody tr th:only-of-type {\n",
       "        vertical-align: middle;\n",
       "    }\n",
       "\n",
       "    .dataframe tbody tr th {\n",
       "        vertical-align: top;\n",
       "    }\n",
       "\n",
       "    .dataframe thead th {\n",
       "        text-align: right;\n",
       "    }\n",
       "</style>\n",
       "<table border=\"1\" class=\"dataframe\">\n",
       "  <thead>\n",
       "    <tr style=\"text-align: right;\">\n",
       "      <th></th>\n",
       "      <th>Invoice</th>\n",
       "      <th>StockCode</th>\n",
       "      <th>Description</th>\n",
       "      <th>Quantity</th>\n",
       "      <th>InvoiceDate</th>\n",
       "      <th>Price</th>\n",
       "      <th>Customer ID</th>\n",
       "      <th>Country</th>\n",
       "    </tr>\n",
       "  </thead>\n",
       "  <tbody>\n",
       "    <tr>\n",
       "      <th>0</th>\n",
       "      <td>489434</td>\n",
       "      <td>85048</td>\n",
       "      <td>15CM CHRISTMAS GLASS BALL 20 LIGHTS</td>\n",
       "      <td>12</td>\n",
       "      <td>2009-12-01 07:45:00</td>\n",
       "      <td>6.95</td>\n",
       "      <td>13085.0</td>\n",
       "      <td>United Kingdom</td>\n",
       "    </tr>\n",
       "    <tr>\n",
       "      <th>1</th>\n",
       "      <td>489434</td>\n",
       "      <td>79323P</td>\n",
       "      <td>PINK CHERRY LIGHTS</td>\n",
       "      <td>12</td>\n",
       "      <td>2009-12-01 07:45:00</td>\n",
       "      <td>6.75</td>\n",
       "      <td>13085.0</td>\n",
       "      <td>United Kingdom</td>\n",
       "    </tr>\n",
       "    <tr>\n",
       "      <th>2</th>\n",
       "      <td>489434</td>\n",
       "      <td>79323W</td>\n",
       "      <td>WHITE CHERRY LIGHTS</td>\n",
       "      <td>12</td>\n",
       "      <td>2009-12-01 07:45:00</td>\n",
       "      <td>6.75</td>\n",
       "      <td>13085.0</td>\n",
       "      <td>United Kingdom</td>\n",
       "    </tr>\n",
       "    <tr>\n",
       "      <th>3</th>\n",
       "      <td>489434</td>\n",
       "      <td>22041</td>\n",
       "      <td>RECORD FRAME 7\" SINGLE SIZE</td>\n",
       "      <td>48</td>\n",
       "      <td>2009-12-01 07:45:00</td>\n",
       "      <td>2.10</td>\n",
       "      <td>13085.0</td>\n",
       "      <td>United Kingdom</td>\n",
       "    </tr>\n",
       "    <tr>\n",
       "      <th>4</th>\n",
       "      <td>489434</td>\n",
       "      <td>21232</td>\n",
       "      <td>STRAWBERRY CERAMIC TRINKET BOX</td>\n",
       "      <td>24</td>\n",
       "      <td>2009-12-01 07:45:00</td>\n",
       "      <td>1.25</td>\n",
       "      <td>13085.0</td>\n",
       "      <td>United Kingdom</td>\n",
       "    </tr>\n",
       "    <tr>\n",
       "      <th>5</th>\n",
       "      <td>489434</td>\n",
       "      <td>22064</td>\n",
       "      <td>PINK DOUGHNUT TRINKET POT</td>\n",
       "      <td>24</td>\n",
       "      <td>2009-12-01 07:45:00</td>\n",
       "      <td>1.65</td>\n",
       "      <td>13085.0</td>\n",
       "      <td>United Kingdom</td>\n",
       "    </tr>\n",
       "    <tr>\n",
       "      <th>6</th>\n",
       "      <td>489434</td>\n",
       "      <td>21871</td>\n",
       "      <td>SAVE THE PLANET MUG</td>\n",
       "      <td>24</td>\n",
       "      <td>2009-12-01 07:45:00</td>\n",
       "      <td>1.25</td>\n",
       "      <td>13085.0</td>\n",
       "      <td>United Kingdom</td>\n",
       "    </tr>\n",
       "    <tr>\n",
       "      <th>7</th>\n",
       "      <td>489434</td>\n",
       "      <td>21523</td>\n",
       "      <td>FANCY FONT HOME SWEET HOME DOORMAT</td>\n",
       "      <td>10</td>\n",
       "      <td>2009-12-01 07:45:00</td>\n",
       "      <td>5.95</td>\n",
       "      <td>13085.0</td>\n",
       "      <td>United Kingdom</td>\n",
       "    </tr>\n",
       "    <tr>\n",
       "      <th>8</th>\n",
       "      <td>489435</td>\n",
       "      <td>22350</td>\n",
       "      <td>CAT BOWL</td>\n",
       "      <td>12</td>\n",
       "      <td>2009-12-01 07:46:00</td>\n",
       "      <td>2.55</td>\n",
       "      <td>13085.0</td>\n",
       "      <td>United Kingdom</td>\n",
       "    </tr>\n",
       "    <tr>\n",
       "      <th>9</th>\n",
       "      <td>489435</td>\n",
       "      <td>22349</td>\n",
       "      <td>DOG BOWL , CHASING BALL DESIGN</td>\n",
       "      <td>12</td>\n",
       "      <td>2009-12-01 07:46:00</td>\n",
       "      <td>3.75</td>\n",
       "      <td>13085.0</td>\n",
       "      <td>United Kingdom</td>\n",
       "    </tr>\n",
       "  </tbody>\n",
       "</table>\n",
       "</div>"
      ],
      "text/plain": [
       "  Invoice StockCode                          Description  Quantity  \\\n",
       "0  489434     85048  15CM CHRISTMAS GLASS BALL 20 LIGHTS        12   \n",
       "1  489434    79323P                   PINK CHERRY LIGHTS        12   \n",
       "2  489434    79323W                  WHITE CHERRY LIGHTS        12   \n",
       "3  489434     22041         RECORD FRAME 7\" SINGLE SIZE         48   \n",
       "4  489434     21232       STRAWBERRY CERAMIC TRINKET BOX        24   \n",
       "5  489434     22064           PINK DOUGHNUT TRINKET POT         24   \n",
       "6  489434     21871                  SAVE THE PLANET MUG        24   \n",
       "7  489434     21523   FANCY FONT HOME SWEET HOME DOORMAT        10   \n",
       "8  489435     22350                            CAT BOWL         12   \n",
       "9  489435     22349       DOG BOWL , CHASING BALL DESIGN        12   \n",
       "\n",
       "          InvoiceDate  Price  Customer ID         Country  \n",
       "0 2009-12-01 07:45:00   6.95      13085.0  United Kingdom  \n",
       "1 2009-12-01 07:45:00   6.75      13085.0  United Kingdom  \n",
       "2 2009-12-01 07:45:00   6.75      13085.0  United Kingdom  \n",
       "3 2009-12-01 07:45:00   2.10      13085.0  United Kingdom  \n",
       "4 2009-12-01 07:45:00   1.25      13085.0  United Kingdom  \n",
       "5 2009-12-01 07:45:00   1.65      13085.0  United Kingdom  \n",
       "6 2009-12-01 07:45:00   1.25      13085.0  United Kingdom  \n",
       "7 2009-12-01 07:45:00   5.95      13085.0  United Kingdom  \n",
       "8 2009-12-01 07:46:00   2.55      13085.0  United Kingdom  \n",
       "9 2009-12-01 07:46:00   3.75      13085.0  United Kingdom  "
      ]
     },
     "execution_count": 3,
     "metadata": {},
     "output_type": "execute_result"
    }
   ],
   "source": [
    "# Concatenate the Two Dataset\n",
    "dataset = pd.concat([dataset_1 , dataset_2])\n",
    "\n",
    "# Display the Data from Dataset\n",
    "dataset.head(10)"
   ]
  },
  {
   "cell_type": "code",
   "execution_count": 4,
   "id": "cc8f9fb8",
   "metadata": {},
   "outputs": [
    {
     "name": "stdout",
     "output_type": "stream",
     "text": [
      "The Shape of the Dataset is : (1067371, 8)\n"
     ]
    }
   ],
   "source": [
    "# Display the Shape of the Dataset\n",
    "print(f\"The Shape of the Dataset is : {dataset.shape}\")"
   ]
  },
  {
   "cell_type": "code",
   "execution_count": 5,
   "id": "571f6e76",
   "metadata": {
    "collapsed": true
   },
   "outputs": [
    {
     "name": "stdout",
     "output_type": "stream",
     "text": [
      "<class 'pandas.core.frame.DataFrame'>\n",
      "Int64Index: 1067371 entries, 0 to 541909\n",
      "Data columns (total 8 columns):\n",
      " #   Column       Non-Null Count    Dtype         \n",
      "---  ------       --------------    -----         \n",
      " 0   Invoice      1067371 non-null  object        \n",
      " 1   StockCode    1067371 non-null  object        \n",
      " 2   Description  1062989 non-null  object        \n",
      " 3   Quantity     1067371 non-null  int64         \n",
      " 4   InvoiceDate  1067371 non-null  datetime64[ns]\n",
      " 5   Price        1067371 non-null  float64       \n",
      " 6   Customer ID  824364 non-null   float64       \n",
      " 7   Country      1067371 non-null  object        \n",
      "dtypes: datetime64[ns](1), float64(2), int64(1), object(4)\n",
      "memory usage: 73.3+ MB\n"
     ]
    }
   ],
   "source": [
    "# Display the Information of Dataset\n",
    "dataset.info()"
   ]
  },
  {
   "cell_type": "code",
   "execution_count": 6,
   "id": "6ca4b348",
   "metadata": {
    "collapsed": true
   },
   "outputs": [
    {
     "data": {
      "text/html": [
       "<div>\n",
       "<style scoped>\n",
       "    .dataframe tbody tr th:only-of-type {\n",
       "        vertical-align: middle;\n",
       "    }\n",
       "\n",
       "    .dataframe tbody tr th {\n",
       "        vertical-align: top;\n",
       "    }\n",
       "\n",
       "    .dataframe thead th {\n",
       "        text-align: right;\n",
       "    }\n",
       "</style>\n",
       "<table border=\"1\" class=\"dataframe\">\n",
       "  <thead>\n",
       "    <tr style=\"text-align: right;\">\n",
       "      <th></th>\n",
       "      <th>Quantity</th>\n",
       "      <th>Price</th>\n",
       "      <th>Customer ID</th>\n",
       "    </tr>\n",
       "  </thead>\n",
       "  <tbody>\n",
       "    <tr>\n",
       "      <th>count</th>\n",
       "      <td>1.067371e+06</td>\n",
       "      <td>1.067371e+06</td>\n",
       "      <td>824364.000000</td>\n",
       "    </tr>\n",
       "    <tr>\n",
       "      <th>mean</th>\n",
       "      <td>9.938898e+00</td>\n",
       "      <td>4.649388e+00</td>\n",
       "      <td>15324.638504</td>\n",
       "    </tr>\n",
       "    <tr>\n",
       "      <th>std</th>\n",
       "      <td>1.727058e+02</td>\n",
       "      <td>1.235531e+02</td>\n",
       "      <td>1697.464450</td>\n",
       "    </tr>\n",
       "    <tr>\n",
       "      <th>min</th>\n",
       "      <td>-8.099500e+04</td>\n",
       "      <td>-5.359436e+04</td>\n",
       "      <td>12346.000000</td>\n",
       "    </tr>\n",
       "    <tr>\n",
       "      <th>25%</th>\n",
       "      <td>1.000000e+00</td>\n",
       "      <td>1.250000e+00</td>\n",
       "      <td>13975.000000</td>\n",
       "    </tr>\n",
       "    <tr>\n",
       "      <th>50%</th>\n",
       "      <td>3.000000e+00</td>\n",
       "      <td>2.100000e+00</td>\n",
       "      <td>15255.000000</td>\n",
       "    </tr>\n",
       "    <tr>\n",
       "      <th>75%</th>\n",
       "      <td>1.000000e+01</td>\n",
       "      <td>4.150000e+00</td>\n",
       "      <td>16797.000000</td>\n",
       "    </tr>\n",
       "    <tr>\n",
       "      <th>max</th>\n",
       "      <td>8.099500e+04</td>\n",
       "      <td>3.897000e+04</td>\n",
       "      <td>18287.000000</td>\n",
       "    </tr>\n",
       "  </tbody>\n",
       "</table>\n",
       "</div>"
      ],
      "text/plain": [
       "           Quantity         Price    Customer ID\n",
       "count  1.067371e+06  1.067371e+06  824364.000000\n",
       "mean   9.938898e+00  4.649388e+00   15324.638504\n",
       "std    1.727058e+02  1.235531e+02    1697.464450\n",
       "min   -8.099500e+04 -5.359436e+04   12346.000000\n",
       "25%    1.000000e+00  1.250000e+00   13975.000000\n",
       "50%    3.000000e+00  2.100000e+00   15255.000000\n",
       "75%    1.000000e+01  4.150000e+00   16797.000000\n",
       "max    8.099500e+04  3.897000e+04   18287.000000"
      ]
     },
     "execution_count": 6,
     "metadata": {},
     "output_type": "execute_result"
    }
   ],
   "source": [
    "# Display the Summary of Numerical Data\n",
    "dataset.describe()"
   ]
  },
  {
   "cell_type": "code",
   "execution_count": 7,
   "id": "dff95ec8",
   "metadata": {
    "collapsed": true
   },
   "outputs": [
    {
     "data": {
      "text/plain": [
       "United Kingdom          981330\n",
       "EIRE                     17866\n",
       "Germany                  17624\n",
       "France                   14330\n",
       "Netherlands               5140\n",
       "Spain                     3811\n",
       "Switzerland               3189\n",
       "Belgium                   3123\n",
       "Portugal                  2620\n",
       "Australia                 1913\n",
       "Channel Islands           1664\n",
       "Italy                     1534\n",
       "Norway                    1455\n",
       "Sweden                    1364\n",
       "Cyprus                    1176\n",
       "Finland                   1049\n",
       "Austria                    938\n",
       "Denmark                    817\n",
       "Unspecified                756\n",
       "Greece                     663\n",
       "Japan                      582\n",
       "Poland                     535\n",
       "USA                        535\n",
       "United Arab Emirates       500\n",
       "Israel                     371\n",
       "Hong Kong                  364\n",
       "Singapore                  346\n",
       "Malta                      299\n",
       "Iceland                    253\n",
       "Canada                     228\n",
       "Lithuania                  189\n",
       "RSA                        169\n",
       "Bahrain                    126\n",
       "Brazil                      94\n",
       "Thailand                    76\n",
       "Korea                       63\n",
       "European Community          61\n",
       "Lebanon                     58\n",
       "West Indies                 54\n",
       "Bermuda                     34\n",
       "Nigeria                     32\n",
       "Czech Republic              30\n",
       "Saudi Arabia                10\n",
       "Name: Country, dtype: int64"
      ]
     },
     "execution_count": 7,
     "metadata": {},
     "output_type": "execute_result"
    }
   ],
   "source": [
    "# Find out the Unique Values & Counts of Country Column\n",
    "dataset[\"Country\"].value_counts()"
   ]
  },
  {
   "cell_type": "markdown",
   "id": "9653071f",
   "metadata": {},
   "source": [
    "<b>Dataset Preprocessing Part 1"
   ]
  },
  {
   "cell_type": "code",
   "execution_count": 10,
   "id": "1de0f7bd",
   "metadata": {
    "collapsed": true
   },
   "outputs": [
    {
     "name": "stdout",
     "output_type": "stream",
     "text": [
      "Total Duplicated Row in the Dataset is : 34335\n"
     ]
    }
   ],
   "source": [
    "# Find out the Duplicated Data\n",
    "duplicatedData = dataset.duplicated().sum()\n",
    "print(f\"Total Duplicated Row in the Dataset is : {duplicatedData}\")"
   ]
  },
  {
   "cell_type": "code",
   "execution_count": 11,
   "id": "9e265303",
   "metadata": {
    "collapsed": true
   },
   "outputs": [
    {
     "name": "stdout",
     "output_type": "stream",
     "text": [
      "The Shape of the Dataset is : (1033036, 8)\n"
     ]
    }
   ],
   "source": [
    "# Remove the Duplicated Data\n",
    "dataset.drop_duplicates(inplace = True)\n",
    "\n",
    "# Display the Shape of Dataset After Remove the Duplicated Data\n",
    "print(f\"The Shape of the Dataset is : {dataset.shape}\")"
   ]
  },
  {
   "cell_type": "code",
   "execution_count": 12,
   "id": "beabf005",
   "metadata": {
    "collapsed": true
   },
   "outputs": [
    {
     "name": "stdout",
     "output_type": "stream",
     "text": [
      "Total Missing Values of Each Columns is : \n",
      "Invoice             0\n",
      "StockCode           0\n",
      "Description      4275\n",
      "Quantity            0\n",
      "InvoiceDate         0\n",
      "Price               0\n",
      "Customer ID    235151\n",
      "Country             0\n",
      "dtype: int64\n"
     ]
    }
   ],
   "source": [
    "# Find out the Missing Values in the Dataset\n",
    "nanValues = dataset.isnull().sum()\n",
    "print(f\"Total Missing Values of Each Columns is : \\n{nanValues}\")"
   ]
  },
  {
   "cell_type": "code",
   "execution_count": 13,
   "id": "706211bc",
   "metadata": {},
   "outputs": [],
   "source": [
    "# Fill the Missing Values of the Dataset\n",
    "dataset[\"Description\"].fillna(method = \"ffill\" , inplace = True)\n",
    "dataset[\"Customer ID\"].fillna(method = \"ffill\" , inplace = True)"
   ]
  },
  {
   "cell_type": "code",
   "execution_count": 14,
   "id": "112823e4",
   "metadata": {
    "collapsed": true
   },
   "outputs": [
    {
     "name": "stdout",
     "output_type": "stream",
     "text": [
      "Total Missing Values of Each Columns is : \n",
      "Invoice        0\n",
      "StockCode      0\n",
      "Description    0\n",
      "Quantity       0\n",
      "InvoiceDate    0\n",
      "Price          0\n",
      "Customer ID    0\n",
      "Country        0\n",
      "dtype: int64\n"
     ]
    }
   ],
   "source": [
    "# Check the Missig Values After Fill the Missing Values\n",
    "nanValues = dataset.isnull().sum()\n",
    "print(f\"Total Missing Values of Each Columns is : \\n{nanValues}\")"
   ]
  },
  {
   "cell_type": "markdown",
   "id": "40c803cf",
   "metadata": {},
   "source": [
    "<b>Dataset Visualization"
   ]
  },
  {
   "cell_type": "code",
   "execution_count": 35,
   "id": "2116553c",
   "metadata": {
    "collapsed": true
   },
   "outputs": [
    {
     "data": {
      "image/png": "[encoded data removed]",
      "text/plain": [
       "<Figure size 432x288 with 2 Axes>"
      ]
     },
     "metadata": {
      "needs_background": "light"
     },
     "output_type": "display_data"
    }
   ],
   "source": [
    "# Display the Correlation of Numerical Values\n",
    "coorMatrix = dataset[[\"Quantity\" , \"Price\"]].corr()\n",
    "\n",
    "# Display  the Correlation Matrix with Heatmap\n",
    "sns.heatmap(coorMatrix , annot = True , cmap = \"hot\")\n",
    "plt.title(\"Correlation Between (Price & Quantity)\")\n",
    "plt.show()"
   ]
  },
  {
   "cell_type": "code",
   "execution_count": 15,
   "id": "9f9d113c",
   "metadata": {
    "collapsed": true
   },
   "outputs": [
    {
     "data": {
      "image/png": "[encoded data removed]",
      "text/plain": [
       "<Figure size 504x504 with 1 Axes>"
      ]
     },
     "metadata": {
      "needs_background": "light"
     },
     "output_type": "display_data"
    }
   ],
   "source": [
    "# Display the Total Customer in which Counrty  (which Customers are Vauable)\n",
    "new_dataset = dataset.groupby(\"Country\").count().sort_values(\"Customer ID\" , ascending = False).head(30)\n",
    "\n",
    "plt.figure(figsize = (7,7))\n",
    "sns.scatterplot(y = new_dataset.index , x = new_dataset[\"Customer ID\"])\n",
    "plt.title(\"Total Sum of Customer Top 30 Country\")\n",
    "plt.show()"
   ]
  },
  {
   "cell_type": "code",
   "execution_count": 16,
   "id": "fc5dfce5",
   "metadata": {
    "collapsed": true
   },
   "outputs": [
    {
     "data": {
      "image/png": "[encoded data removed]",
      "text/plain": [
       "<Figure size 504x504 with 1 Axes>"
      ]
     },
     "metadata": {
      "needs_background": "light"
     },
     "output_type": "display_data"
    }
   ],
   "source": [
    "# Display the Each Product Quantity which has been Purchased \n",
    "new_dataset = dataset.groupby(\"StockCode\").sum().sort_values(\"Quantity\" , ascending = False).head(30)\n",
    "\n",
    "plt.figure(figsize = (7,7))\n",
    "sns.barplot(y = new_dataset.index , x = new_dataset[\"Quantity\"] , palette = \"Spectral\")\n",
    "plt.title(\"Top 30 Product Purchased Quantity\")\n",
    "plt.show()"
   ]
  },
  {
   "cell_type": "code",
   "execution_count": 17,
   "id": "f9df2073",
   "metadata": {
    "collapsed": true
   },
   "outputs": [
    {
     "data": {
      "image/png": "[encoded data removed]",
      "text/plain": [
       "<Figure size 432x288 with 1 Axes>"
      ]
     },
     "metadata": {
      "needs_background": "light"
     },
     "output_type": "display_data"
    }
   ],
   "source": [
    "# Find out How many Total Product Quantity Purchased in the Each Year\n",
    "new_dataset = dataset.groupby(dataset[\"InvoiceDate\"].dt.year).sum()\n",
    "\n",
    "sns.barplot(x = new_dataset.index , y = new_dataset[\"Quantity\"])\n",
    "plt.title(\"Total Product Quantity Purchased in Each Year\")\n",
    "plt.show()"
   ]
  },
  {
   "cell_type": "code",
   "execution_count": 18,
   "id": "fe5f9314",
   "metadata": {
    "collapsed": true
   },
   "outputs": [
    {
     "data": {
      "image/png": "[encoded data removed]",
      "text/plain": [
       "<Figure size 432x288 with 1 Axes>"
      ]
     },
     "metadata": {
      "needs_background": "light"
     },
     "output_type": "display_data"
    }
   ],
   "source": [
    "# Which Products are most Quantity Purchased in Each Year\n",
    "year2009 = dataset[dataset[\"InvoiceDate\"].dt.year == 2009]\n",
    "year2010 = dataset[dataset[\"InvoiceDate\"].dt.year == 2010]\n",
    "year2011 = dataset[dataset[\"InvoiceDate\"].dt.year == 2011]\n",
    "\n",
    "year2009Product = year2009.groupby(\"StockCode\").sum().sort_values(\"Quantity\" , ascending = False)\n",
    "year2010Product = year2010.groupby(\"StockCode\").sum().sort_values(\"Quantity\" , ascending = False)\n",
    "year2011Product = year2011.groupby(\"StockCode\").sum().sort_values(\"Quantity\" , ascending = False)\n",
    "\n",
    "#year = [2009 , 2010 , 2011]\n",
    "Quantity = [year2009Product[\"Quantity\"][year2009Product.index[0]] , year2010Product[\"Quantity\"][year2010Product.index[0]] , year2011Product[\"Quantity\"][year2011Product.index[0]]]\n",
    "product = [year2009Product.index[0] , year2010Product.index[0] , year2011Product.index[0]]\n",
    "\n",
    "sns.barplot(y=Quantity , x= product)\n",
    "plt.xlabel(\"StockCode\")\n",
    "plt.ylabel(\"Quantity\")\n",
    "plt.title(\"Popular Product Purchased with Quantity Each Year\")    \n",
    "plt.show()"
   ]
  },
  {
   "cell_type": "code",
   "execution_count": 19,
   "id": "33b3cd9d",
   "metadata": {
    "collapsed": true
   },
   "outputs": [
    {
     "data": {
      "image/png": "[encoded data removed]",
      "text/plain": [
       "<Figure size 504x504 with 1 Axes>"
      ]
     },
     "metadata": {
      "needs_background": "light"
     },
     "output_type": "display_data"
    }
   ],
   "source": [
    "# Find out the Total Sales of Each Product\n",
    "new_dataset = dataset.groupby(\"StockCode\").sum()\n",
    "new_dataset[\"Product Sales\"] = new_dataset[\"Quantity\"] * new_dataset[\"Price\"]\n",
    "new_dataset = new_dataset.sort_values(\"Product Sales\" , ascending = False).head(30)\n",
    "\n",
    "plt.figure(figsize = (7,7))\n",
    "sns.barplot(y = new_dataset.index , x = new_dataset[\"Product Sales\"] , palette = \"twilight_shifted_r\")\n",
    "plt.title(\"Total Sales of Top 30 Product\")\n",
    "plt.show()"
   ]
  },
  {
   "cell_type": "code",
   "execution_count": 20,
   "id": "7a10ecbf",
   "metadata": {
    "collapsed": true
   },
   "outputs": [
    {
     "data": {
      "image/png": "[encoded data removed]",
      "text/plain": [
       "<Figure size 504x504 with 1 Axes>"
      ]
     },
     "metadata": {
      "needs_background": "light"
     },
     "output_type": "display_data"
    }
   ],
   "source": [
    "# Find out the Total Sales of Each Customer\n",
    "new_dataset = dataset.groupby(\"Customer ID\").sum()\n",
    "new_dataset[\"Total Sales\"] = new_dataset[\"Quantity\"] * new_dataset[\"Price\"]\n",
    "new_dataset = new_dataset[\"Total Sales\"].sort_values(ascending = False).head(30)\n",
    "new_dataset_index = [str(data) for data in new_dataset.index]\n",
    "\n",
    "plt.figure(figsize = (7,7))\n",
    "sns.barplot(y = new_dataset_index , x = new_dataset.values)\n",
    "plt.xlabel(\"Total Sales\")\n",
    "plt.ylabel(\"Customer ID\")\n",
    "plt.title(\"Total Sales of Top 30 Customers\")\n",
    "plt.show()"
   ]
  },
  {
   "cell_type": "code",
   "execution_count": 21,
   "id": "e3e71854",
   "metadata": {
    "collapsed": true
   },
   "outputs": [
    {
     "data": {
      "image/png": "[encoded data removed]",
      "text/plain": [
       "<Figure size 504x504 with 1 Axes>"
      ]
     },
     "metadata": {
      "needs_background": "light"
     },
     "output_type": "display_data"
    }
   ],
   "source": [
    "# Find out the Total Sales of Eact Country\n",
    "new_dataset = dataset.groupby(\"Country\").sum()\n",
    "new_dataset[\"Country Sales\"] = new_dataset[\"Quantity\"] * new_dataset[\"Price\"]\n",
    "new_dataset = new_dataset.sort_values(\"Country Sales\" , ascending = False).head(30)\n",
    "plt.figure(figsize = (7,7))\n",
    "sns.barplot(y = new_dataset.index , x = new_dataset[\"Country Sales\"])\n",
    "plt.title(\"Total Sales of Top 30 Country\")\n",
    "plt.show()"
   ]
  },
  {
   "cell_type": "markdown",
   "id": "6d31e28d",
   "metadata": {},
   "source": [
    "<b>Dataset Preprocessing Part 2"
   ]
  },
  {
   "cell_type": "code",
   "execution_count": 22,
   "id": "b114df24",
   "metadata": {},
   "outputs": [],
   "source": [
    "# Drop the Not Usefull Columns\n",
    "dataset.drop([\"Invoice\" , \"InvoiceDate\"] , inplace = True , axis = 1)\n",
    "\n",
    "# Change the Type of the Customer ID Column\n",
    "dataset[\"Customer ID\"] = dataset[\"Customer ID\"].astype(str)\n",
    "dataset[\"StockCode\"] = dataset[\"StockCode\"].astype(str)"
   ]
  },
  {
   "cell_type": "code",
   "execution_count": 23,
   "id": "0c6864ed",
   "metadata": {},
   "outputs": [],
   "source": [
    "# Handle the Categorical Data \n",
    "encoder = LabelEncoder()\n",
    "\n",
    "dataset[\"StockCode\"] = encoder.fit_transform(dataset[\"StockCode\"])\n",
    "dataset[\"Customer ID\"] = encoder.fit_transform(dataset[\"Customer ID\"])\n",
    "dataset[\"Country\"]   = encoder.fit_transform(dataset[\"Country\"])"
   ]
  },
  {
   "cell_type": "code",
   "execution_count": 24,
   "id": "407058d3",
   "metadata": {},
   "outputs": [
    {
     "data": {
      "text/html": [
       "<div>\n",
       "<style scoped>\n",
       "    .dataframe tbody tr th:only-of-type {\n",
       "        vertical-align: middle;\n",
       "    }\n",
       "\n",
       "    .dataframe tbody tr th {\n",
       "        vertical-align: top;\n",
       "    }\n",
       "\n",
       "    .dataframe thead th {\n",
       "        text-align: right;\n",
       "    }\n",
       "</style>\n",
       "<table border=\"1\" class=\"dataframe\">\n",
       "  <thead>\n",
       "    <tr style=\"text-align: right;\">\n",
       "      <th></th>\n",
       "      <th>StockCode</th>\n",
       "      <th>Description</th>\n",
       "      <th>Quantity</th>\n",
       "      <th>Price</th>\n",
       "      <th>Customer ID</th>\n",
       "      <th>Country</th>\n",
       "    </tr>\n",
       "  </thead>\n",
       "  <tbody>\n",
       "    <tr>\n",
       "      <th>0</th>\n",
       "      <td>4551</td>\n",
       "      <td>15CM CHRISTMAS GLASS BALL 20 LIGHTS</td>\n",
       "      <td>0.500074</td>\n",
       "      <td>0.579071</td>\n",
       "      <td>739</td>\n",
       "      <td>40</td>\n",
       "    </tr>\n",
       "    <tr>\n",
       "      <th>1</th>\n",
       "      <td>3701</td>\n",
       "      <td>PINK CHERRY LIGHTS</td>\n",
       "      <td>0.500074</td>\n",
       "      <td>0.579069</td>\n",
       "      <td>739</td>\n",
       "      <td>40</td>\n",
       "    </tr>\n",
       "    <tr>\n",
       "      <th>2</th>\n",
       "      <td>3703</td>\n",
       "      <td>WHITE CHERRY LIGHTS</td>\n",
       "      <td>0.500074</td>\n",
       "      <td>0.579069</td>\n",
       "      <td>739</td>\n",
       "      <td>40</td>\n",
       "    </tr>\n",
       "    <tr>\n",
       "      <th>3</th>\n",
       "      <td>1396</td>\n",
       "      <td>RECORD FRAME 7\" SINGLE SIZE</td>\n",
       "      <td>0.500296</td>\n",
       "      <td>0.579018</td>\n",
       "      <td>739</td>\n",
       "      <td>40</td>\n",
       "    </tr>\n",
       "    <tr>\n",
       "      <th>4</th>\n",
       "      <td>711</td>\n",
       "      <td>STRAWBERRY CERAMIC TRINKET BOX</td>\n",
       "      <td>0.500148</td>\n",
       "      <td>0.579009</td>\n",
       "      <td>739</td>\n",
       "      <td>40</td>\n",
       "    </tr>\n",
       "  </tbody>\n",
       "</table>\n",
       "</div>"
      ],
      "text/plain": [
       "   StockCode                          Description  Quantity     Price  \\\n",
       "0       4551  15CM CHRISTMAS GLASS BALL 20 LIGHTS  0.500074  0.579071   \n",
       "1       3701                   PINK CHERRY LIGHTS  0.500074  0.579069   \n",
       "2       3703                  WHITE CHERRY LIGHTS  0.500074  0.579069   \n",
       "3       1396         RECORD FRAME 7\" SINGLE SIZE   0.500296  0.579018   \n",
       "4        711       STRAWBERRY CERAMIC TRINKET BOX  0.500148  0.579009   \n",
       "\n",
       "   Customer ID  Country  \n",
       "0          739       40  \n",
       "1          739       40  \n",
       "2          739       40  \n",
       "3          739       40  \n",
       "4          739       40  "
      ]
     },
     "execution_count": 24,
     "metadata": {},
     "output_type": "execute_result"
    }
   ],
   "source": [
    "# Normalize the Numerical Data\n",
    "normalize = MinMaxScaler()\n",
    "\n",
    "dataset[[\"Quantity\" , \"Price\"]] = normalize.fit_transform(dataset[[\"Quantity\" , \"Price\"]])\n",
    "\n",
    "# Display the Dataset After All Preprocessing\n",
    "dataset.head()"
   ]
  },
  {
   "cell_type": "markdown",
   "id": "db1217c7",
   "metadata": {},
   "source": [
    "<b>If You handle the Description Feature than You'll be import the NLP Modules like (nltk , spacy) Because Description is a sentence to Describe the Product "
   ]
  },
  {
   "cell_type": "code",
   "execution_count": null,
   "id": "cd1458b4",
   "metadata": {},
   "outputs": [],
   "source": []
  }
 ],
 "metadata": {
  "kernelspec": {
   "display_name": "Python 3 (ipykernel)",
   "language": "python",
   "name": "python3"
  },
  "language_info": {
   "codemirror_mode": {
    "name": "ipython",
    "version": 3
   },
   "file_extension": ".py",
   "mimetype": "text/x-python",
   "name": "python",
   "nbconvert_exporter": "python",
   "pygments_lexer": "ipython3",
   "version": "3.9.12"
  }
 },
 "nbformat": 4,
 "nbformat_minor": 5
}
