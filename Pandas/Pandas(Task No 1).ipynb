{
 "cells": [
  {
   "cell_type": "markdown",
   "id": "cacf5ff1",
   "metadata": {},
   "source": [
    "<b>Module"
   ]
  },
  {
   "cell_type": "code",
   "execution_count": 1,
   "id": "fb25fa3c",
   "metadata": {},
   "outputs": [],
   "source": [
    "from tensorflow import keras\n",
    "import pandas as pd\n",
    "import numpy as np\n",
    "import seaborn as sns\n",
    "import matplotlib.pyplot as plt\n",
    "import re\n",
    "import random"
   ]
  },
  {
   "cell_type": "markdown",
   "id": "281b244a",
   "metadata": {},
   "source": [
    "<b>Dataset"
   ]
  },
  {
   "cell_type": "code",
   "execution_count": 2,
   "id": "e556abea",
   "metadata": {},
   "outputs": [],
   "source": [
    "# Load the Dataset\n",
    "dataset = keras.datasets.mnist.load_data()"
   ]
  },
  {
   "cell_type": "code",
   "execution_count": 3,
   "id": "27e06e07",
   "metadata": {},
   "outputs": [],
   "source": [
    "# Load the Train Data\n",
    "train_df = pd.DataFrame(list(zip(dataset[0][0], dataset[0][1])), columns =['image', 'label'])\n",
    "\n",
    "# Load the Test Data\n",
    "test_df = pd.DataFrame(list(zip(dataset[1][0], dataset[1][1])), columns =['image', 'label'])"
   ]
  },
  {
   "cell_type": "code",
   "execution_count": 4,
   "id": "788470cd",
   "metadata": {},
   "outputs": [
    {
     "name": "stdout",
     "output_type": "stream",
     "text": [
      "The Shape of the Train Dataset is : (60000, 2)\n",
      "The Shape of the Test  Dataset is : (10000, 2)\n"
     ]
    }
   ],
   "source": [
    "# Display the Shape of the Dataset\n",
    "print(\"The Shape of the Train Dataset is : {}\".format(train_df.shape))\n",
    "print(\"The Shape of the Test  Dataset is : {}\".format(test_df.shape))"
   ]
  },
  {
   "cell_type": "markdown",
   "id": "b66115ab",
   "metadata": {},
   "source": [
    "<b>Task No 1 (Save the DataFrame into CSV File)"
   ]
  },
  {
   "cell_type": "code",
   "execution_count": 5,
   "id": "a763bed3",
   "metadata": {},
   "outputs": [],
   "source": [
    "# Save the Train Dataset into CSV\n",
    "train_df.to_csv(\"train.csv\" , index = False)\n",
    "\n",
    "# Save the Test Dataset into CSV\n",
    "test_df.to_csv(\"test.csv\"  , index = False)"
   ]
  },
  {
   "cell_type": "markdown",
   "id": "c0dfcc4c",
   "metadata": {},
   "source": [
    "<b> Task No 2(Load the DataFrame From CSV File & Create the Dataset)"
   ]
  },
  {
   "cell_type": "code",
   "execution_count": 6,
   "id": "f42ce3b1",
   "metadata": {},
   "outputs": [],
   "source": [
    "# Load the Train Data from CSV File\n",
    "trainData = pd.read_csv(\"train.csv\")\n",
    "\n",
    "# Load the Test Data From CSV File\n",
    "testData = pd.read_csv(\"test.csv\")"
   ]
  },
  {
   "cell_type": "code",
   "execution_count": 7,
   "id": "00a13087",
   "metadata": {},
   "outputs": [
    {
     "name": "stdout",
     "output_type": "stream",
     "text": [
      "The Shape of the Train Data is : (60000, 2)\n",
      "The Shape of the Test  Data is : (10000, 2)\n"
     ]
    }
   ],
   "source": [
    "# Display the Shape of the Train/Test Data\n",
    "print(\"The Shape of the Train Data is : {}\".format(trainData.shape))\n",
    "print(\"The Shape of the Test  Data is : {}\".format(testData.shape))"
   ]
  },
  {
   "cell_type": "code",
   "execution_count": 8,
   "id": "41ebef2a",
   "metadata": {
    "collapsed": true
   },
   "outputs": [
    {
     "data": {
      "text/html": [
       "<div>\n",
       "<style scoped>\n",
       "    .dataframe tbody tr th:only-of-type {\n",
       "        vertical-align: middle;\n",
       "    }\n",
       "\n",
       "    .dataframe tbody tr th {\n",
       "        vertical-align: top;\n",
       "    }\n",
       "\n",
       "    .dataframe thead th {\n",
       "        text-align: right;\n",
       "    }\n",
       "</style>\n",
       "<table border=\"1\" class=\"dataframe\">\n",
       "  <thead>\n",
       "    <tr style=\"text-align: right;\">\n",
       "      <th></th>\n",
       "      <th>image</th>\n",
       "      <th>label</th>\n",
       "    </tr>\n",
       "  </thead>\n",
       "  <tbody>\n",
       "    <tr>\n",
       "      <th>0</th>\n",
       "      <td>[[  0   0   0   0   0   0   0   0   0   0   0 ...</td>\n",
       "      <td>5</td>\n",
       "    </tr>\n",
       "    <tr>\n",
       "      <th>1</th>\n",
       "      <td>[[  0   0   0   0   0   0   0   0   0   0   0 ...</td>\n",
       "      <td>0</td>\n",
       "    </tr>\n",
       "  </tbody>\n",
       "</table>\n",
       "</div>"
      ],
      "text/plain": [
       "                                               image  label\n",
       "0  [[  0   0   0   0   0   0   0   0   0   0   0 ...      5\n",
       "1  [[  0   0   0   0   0   0   0   0   0   0   0 ...      0"
      ]
     },
     "execution_count": 8,
     "metadata": {},
     "output_type": "execute_result"
    }
   ],
   "source": [
    "# Display the Train Data\n",
    "trainData.head(2)"
   ]
  },
  {
   "cell_type": "code",
   "execution_count": 9,
   "id": "48ad3762",
   "metadata": {
    "collapsed": true
   },
   "outputs": [
    {
     "data": {
      "text/html": [
       "<div>\n",
       "<style scoped>\n",
       "    .dataframe tbody tr th:only-of-type {\n",
       "        vertical-align: middle;\n",
       "    }\n",
       "\n",
       "    .dataframe tbody tr th {\n",
       "        vertical-align: top;\n",
       "    }\n",
       "\n",
       "    .dataframe thead th {\n",
       "        text-align: right;\n",
       "    }\n",
       "</style>\n",
       "<table border=\"1\" class=\"dataframe\">\n",
       "  <thead>\n",
       "    <tr style=\"text-align: right;\">\n",
       "      <th></th>\n",
       "      <th>image</th>\n",
       "      <th>label</th>\n",
       "    </tr>\n",
       "  </thead>\n",
       "  <tbody>\n",
       "    <tr>\n",
       "      <th>0</th>\n",
       "      <td>[[  0   0   0   0   0   0   0   0   0   0   0 ...</td>\n",
       "      <td>7</td>\n",
       "    </tr>\n",
       "    <tr>\n",
       "      <th>1</th>\n",
       "      <td>[[  0   0   0   0   0   0   0   0   0   0   0 ...</td>\n",
       "      <td>2</td>\n",
       "    </tr>\n",
       "  </tbody>\n",
       "</table>\n",
       "</div>"
      ],
      "text/plain": [
       "                                               image  label\n",
       "0  [[  0   0   0   0   0   0   0   0   0   0   0 ...      7\n",
       "1  [[  0   0   0   0   0   0   0   0   0   0   0 ...      2"
      ]
     },
     "execution_count": 9,
     "metadata": {},
     "output_type": "execute_result"
    }
   ],
   "source": [
    "# Display the Test Data\n",
    "testData.head(2)"
   ]
  },
  {
   "cell_type": "markdown",
   "id": "fc644bfd",
   "metadata": {},
   "source": [
    "Load the DataFrame Data into Numpy Array"
   ]
  },
  {
   "cell_type": "code",
   "execution_count": 10,
   "id": "14fb5e91",
   "metadata": {},
   "outputs": [],
   "source": [
    "# Load the Train DataFrame Data into Numpy Array\n",
    "train_x_image = trainData.iloc[:, 0].values\n",
    "train_y_label = trainData.iloc[:,-1].values"
   ]
  },
  {
   "cell_type": "code",
   "execution_count": 11,
   "id": "aeda6ddb",
   "metadata": {},
   "outputs": [],
   "source": [
    "# Load the Test DataFrame Data into Numpy Array\n",
    "test_x_image = testData.iloc[:, 0].values\n",
    "test_y_label = testData.iloc[:,-1].values"
   ]
  },
  {
   "cell_type": "code",
   "execution_count": 12,
   "id": "cbf15a43",
   "metadata": {
    "collapsed": true
   },
   "outputs": [
    {
     "data": {
      "text/plain": [
       "'[[  0   0   0   0   0   0   0   0   0   0   0   0   0   0   0   0   0   0\\n    0   0   0   0   0   0   0   0   0   0]\\n [  0   0   0   0   0   0   0   0   0   0   0   0   0   0   0   0   0   0\\n    0   0   0   0   0   0   0   0   0   0]\\n [  0   0   0   0   0   0   0   0   0   0   0   0   0   0   0   0   0   0\\n    0   0   0   0   0   0   0   0   0   0]\\n [  0   0   0   0   0   0   0   0   0   0   0   0   0   0   0   0   0   0\\n    0   0   0   0   0   0   0   0   0   0]\\n [  0   0   0   0   0   0   0   0   0   0   0   0   0   0   0   0   0   0\\n    0   0   0   0   0   0   0   0   0   0]\\n [  0   0   0   0   0   0   0   0   0   0   0   0   3  18  18  18 126 136\\n  175  26 166 255 247 127   0   0   0   0]\\n [  0   0   0   0   0   0   0   0  30  36  94 154 170 253 253 253 253 253\\n  225 172 253 242 195  64   0   0   0   0]\\n [  0   0   0   0   0   0   0  49 238 253 253 253 253 253 253 253 253 251\\n   93  82  82  56  39   0   0   0   0   0]\\n [  0   0   0   0   0   0   0  18 219 253 253 253 253 253 198 182 247 241\\n    0   0   0   0   0   0   0   0   0   0]\\n [  0   0   0   0   0   0   0   0  80 156 107 253 253 205  11   0  43 154\\n    0   0   0   0   0   0   0   0   0   0]\\n [  0   0   0   0   0   0   0   0   0  14   1 154 253  90   0   0   0   0\\n    0   0   0   0   0   0   0   0   0   0]\\n [  0   0   0   0   0   0   0   0   0   0   0 139 253 190   2   0   0   0\\n    0   0   0   0   0   0   0   0   0   0]\\n [  0   0   0   0   0   0   0   0   0   0   0  11 190 253  70   0   0   0\\n    0   0   0   0   0   0   0   0   0   0]\\n [  0   0   0   0   0   0   0   0   0   0   0   0  35 241 225 160 108   1\\n    0   0   0   0   0   0   0   0   0   0]\\n [  0   0   0   0   0   0   0   0   0   0   0   0   0  81 240 253 253 119\\n   25   0   0   0   0   0   0   0   0   0]\\n [  0   0   0   0   0   0   0   0   0   0   0   0   0   0  45 186 253 253\\n  150  27   0   0   0   0   0   0   0   0]\\n [  0   0   0   0   0   0   0   0   0   0   0   0   0   0   0  16  93 252\\n  253 187   0   0   0   0   0   0   0   0]\\n [  0   0   0   0   0   0   0   0   0   0   0   0   0   0   0   0   0 249\\n  253 249  64   0   0   0   0   0   0   0]\\n [  0   0   0   0   0   0   0   0   0   0   0   0   0   0  46 130 183 253\\n  253 207   2   0   0   0   0   0   0   0]\\n [  0   0   0   0   0   0   0   0   0   0   0   0  39 148 229 253 253 253\\n  250 182   0   0   0   0   0   0   0   0]\\n [  0   0   0   0   0   0   0   0   0   0  24 114 221 253 253 253 253 201\\n   78   0   0   0   0   0   0   0   0   0]\\n [  0   0   0   0   0   0   0   0  23  66 213 253 253 253 253 198  81   2\\n    0   0   0   0   0   0   0   0   0   0]\\n [  0   0   0   0   0   0  18 171 219 253 253 253 253 195  80   9   0   0\\n    0   0   0   0   0   0   0   0   0   0]\\n [  0   0   0   0  55 172 226 253 253 253 253 244 133  11   0   0   0   0\\n    0   0   0   0   0   0   0   0   0   0]\\n [  0   0   0   0 136 253 253 253 212 135 132  16   0   0   0   0   0   0\\n    0   0   0   0   0   0   0   0   0   0]\\n [  0   0   0   0   0   0   0   0   0   0   0   0   0   0   0   0   0   0\\n    0   0   0   0   0   0   0   0   0   0]\\n [  0   0   0   0   0   0   0   0   0   0   0   0   0   0   0   0   0   0\\n    0   0   0   0   0   0   0   0   0   0]\\n [  0   0   0   0   0   0   0   0   0   0   0   0   0   0   0   0   0   0\\n    0   0   0   0   0   0   0   0   0   0]]'"
      ]
     },
     "execution_count": 12,
     "metadata": {},
     "output_type": "execute_result"
    }
   ],
   "source": [
    "# Display the Numpy Array Inside Data (This Data Type is String)\n",
    "train_x_image[0]"
   ]
  },
  {
   "cell_type": "markdown",
   "id": "8e67c077",
   "metadata": {},
   "source": [
    "<b>Convert the Numpy Array inside String Data into (Integer Numpy Array Data)"
   ]
  },
  {
   "cell_type": "code",
   "execution_count": 13,
   "id": "753d057b",
   "metadata": {},
   "outputs": [],
   "source": [
    "# Define the Function to convert the String Type Nump Array Image into Integer Type Numpy Array Image\n",
    "def convert_to_image(imageData):\n",
    "    cleanImage = re.sub(\"\\n\" , \"\" , imageData)\n",
    "    splitImage  = re.sub(\"]\" , \",\" ,cleanImage).split(',')\n",
    "\n",
    "    matrix = []\n",
    "    for index in range(0,len(splitImage)-2):\n",
    "        splitData = splitImage[index].split(\" \") # Split the Data with Space\n",
    "        array = np.array([]) # Create the Array\n",
    "    \n",
    "        for index2 in range(0,len(splitData)):    # Apply the Check for Numerical Data\n",
    "            if splitData[index2].isnumeric():\n",
    "                array = np.append(array , int(splitData[index2]))\n",
    "            elif splitData[index2][1:].isnumeric():\n",
    "                array = np.append(array , int(splitData[index2][1:]))\n",
    "                \n",
    "        matrix.append(array)\n",
    "        image = np.stack(matrix).astype(dtype = np.uint8)\n",
    "    return image"
   ]
  },
  {
   "cell_type": "markdown",
   "id": "fb2f07f5",
   "metadata": {},
   "source": [
    "Convert the Train Data into Integer Numpy Array Image"
   ]
  },
  {
   "cell_type": "code",
   "execution_count": 14,
   "id": "d7618c1c",
   "metadata": {},
   "outputs": [
    {
     "name": "stdout",
     "output_type": "stream",
     "text": [
      "The Shape of The Train Image Data is : (60000, 28, 28)\n"
     ]
    }
   ],
   "source": [
    "trainImages = [convert_to_image(train_x_image[index]) for index in range(0,len(train_x_image))]\n",
    "\n",
    "# Display the Shape of Train Image\n",
    "print(\"The Shape of The Train Image Data is : {}\".format(np.shape(trainImages)))"
   ]
  },
  {
   "cell_type": "markdown",
   "id": "7561da47",
   "metadata": {},
   "source": [
    "Convert the Test Data into Integer Numpy Array Image"
   ]
  },
  {
   "cell_type": "code",
   "execution_count": 15,
   "id": "e1a9f551",
   "metadata": {},
   "outputs": [
    {
     "name": "stdout",
     "output_type": "stream",
     "text": [
      "The Shape of The Test Image Data is : (10000, 28, 28)\n"
     ]
    }
   ],
   "source": [
    "testImages = [convert_to_image(test_x_image[index]) for index in range(0,len(test_x_image))]\n",
    "\n",
    "# Display the Shape of the Test Image\n",
    "print(\"The Shape of The Test Image Data is : {}\".format(np.shape(testImages)))"
   ]
  },
  {
   "cell_type": "markdown",
   "id": "e9bad4cc",
   "metadata": {},
   "source": [
    "<b>Create the newDataset"
   ]
  },
  {
   "cell_type": "code",
   "execution_count": 16,
   "id": "b0307fd3",
   "metadata": {},
   "outputs": [],
   "source": [
    "# Create the New Dataset\n",
    "new_dataset = ((np.array(trainImages) , train_y_label) , (np.array(testImages) , test_y_label))"
   ]
  },
  {
   "cell_type": "code",
   "execution_count": 17,
   "id": "6f163fdd",
   "metadata": {},
   "outputs": [
    {
     "name": "stdout",
     "output_type": "stream",
     "text": [
      "There are 60000 labels in training dataset for 60000 images in training dataset\n",
      "There are 10000 labels in training dataset for 10000 images in training dataset\n"
     ]
    }
   ],
   "source": [
    "print(\"There are\",len(new_dataset[0][1]),\"labels in training dataset for\",len(new_dataset[0][0]),\"images in training dataset\")\n",
    "print(\"There are\",len(new_dataset[1][1]),\"labels in training dataset for\",len(new_dataset[1][0]),\"images in training dataset\")"
   ]
  },
  {
   "cell_type": "markdown",
   "id": "7d5d395b",
   "metadata": {},
   "source": [
    "<b>Display the Images "
   ]
  },
  {
   "cell_type": "code",
   "execution_count": 18,
   "id": "0bb53ff5",
   "metadata": {},
   "outputs": [],
   "source": [
    "def display_random_images_with_labels(d, n=10):\n",
    "    \"\"\"\n",
    "        accept dataset in tuple form, first index\n",
    "        is np arrays (images) and second is labels\n",
    "        and display n random images with labels\n",
    "        from it\n",
    "        Inputs:\n",
    "            d (tuple): dataset images, dataset labels on same indexs\n",
    "            n (int): number of samples to display (default: 10)\n",
    "        Output:\n",
    "            None\n",
    "    \"\"\"\n",
    "    choices = list(range(len(d[0])))\n",
    "    for i in range(n):\n",
    "        index = random.choice(choices)\n",
    "        choices.remove(index)\n",
    "        print(\"index:\",index)\n",
    "        print(\"Lable:\",d[1][index])\n",
    "        plt.imshow(d[0][index], cmap='gray')\n",
    "        plt.show()"
   ]
  },
  {
   "cell_type": "markdown",
   "id": "07aba586",
   "metadata": {},
   "source": [
    "Train Dataset "
   ]
  },
  {
   "cell_type": "code",
   "execution_count": 19,
   "id": "49825aa9",
   "metadata": {},
   "outputs": [
    {
     "name": "stdout",
     "output_type": "stream",
     "text": [
      "Randomly printing 10 images with labels from training dataset\n",
      "index: 28422\n",
      "Lable: 9\n"
     ]
    },
    {
     "data": {
      "image/png": "[encoded data removed]",
      "text/plain": [
       "<Figure size 432x288 with 1 Axes>"
      ]
     },
     "metadata": {
      "needs_background": "light"
     },
     "output_type": "display_data"
    },
    {
     "name": "stdout",
     "output_type": "stream",
     "text": [
      "index: 13245\n",
      "Lable: 6\n"
     ]
    },
    {
     "data": {
      "image/png": "[encoded data removed]",
      "text/plain": [
       "<Figure size 432x288 with 1 Axes>"
      ]
     },
     "metadata": {
      "needs_background": "light"
     },
     "output_type": "display_data"
    },
    {
     "name": "stdout",
     "output_type": "stream",
     "text": [
      "index: 8964\n",
      "Lable: 4\n"
     ]
    },
    {
     "data": {
      "image/png": "[encoded data removed]",
      "text/plain": [
       "<Figure size 432x288 with 1 Axes>"
      ]
     },
     "metadata": {
      "needs_background": "light"
     },
     "output_type": "display_data"
    },
    {
     "name": "stdout",
     "output_type": "stream",
     "text": [
      "index: 46701\n",
      "Lable: 9\n"
     ]
    },
    {
     "data": {
      "image/png": "[encoded data removed]",
      "text/plain": [
       "<Figure size 432x288 with 1 Axes>"
      ]
     },
     "metadata": {
      "needs_background": "light"
     },
     "output_type": "display_data"
    },
    {
     "name": "stdout",
     "output_type": "stream",
     "text": [
      "index: 25019\n",
      "Lable: 9\n"
     ]
    },
    {
     "data": {
      "image/png": "[encoded data removed]",
      "text/plain": [
       "<Figure size 432x288 with 1 Axes>"
      ]
     },
     "metadata": {
      "needs_background": "light"
     },
     "output_type": "display_data"
    },
    {
     "name": "stdout",
     "output_type": "stream",
     "text": [
      "index: 11539\n",
      "Lable: 3\n"
     ]
    },
    {
     "data": {
      "image/png": "[encoded data removed]",
      "text/plain": [
       "<Figure size 432x288 with 1 Axes>"
      ]
     },
     "metadata": {
      "needs_background": "light"
     },
     "output_type": "display_data"
    },
    {
     "name": "stdout",
     "output_type": "stream",
     "text": [
      "index: 20098\n",
      "Lable: 4\n"
     ]
    },
    {
     "data": {
      "image/png": "[encoded data removed]",
      "text/plain": [
       "<Figure size 432x288 with 1 Axes>"
      ]
     },
     "metadata": {
      "needs_background": "light"
     },
     "output_type": "display_data"
    },
    {
     "name": "stdout",
     "output_type": "stream",
     "text": [
      "index: 32761\n",
      "Lable: 4\n"
     ]
    },
    {
     "data": {
      "image/png": "[encoded data removed]",
      "text/plain": [
       "<Figure size 432x288 with 1 Axes>"
      ]
     },
     "metadata": {
      "needs_background": "light"
     },
     "output_type": "display_data"
    },
    {
     "name": "stdout",
     "output_type": "stream",
     "text": [
      "index: 25399\n",
      "Lable: 0\n"
     ]
    },
    {
     "data": {
      "image/png": "[encoded data removed]",
      "text/plain": [
       "<Figure size 432x288 with 1 Axes>"
      ]
     },
     "metadata": {
      "needs_background": "light"
     },
     "output_type": "display_data"
    },
    {
     "name": "stdout",
     "output_type": "stream",
     "text": [
      "index: 22433\n",
      "Lable: 9\n"
     ]
    },
    {
     "data": {
      "image/png": "[encoded data removed]",
      "text/plain": [
       "<Figure size 432x288 with 1 Axes>"
      ]
     },
     "metadata": {
      "needs_background": "light"
     },
     "output_type": "display_data"
    }
   ],
   "source": [
    "print(\"Randomly printing 10 images with labels from training dataset\")\n",
    "\n",
    "display_random_images_with_labels(new_dataset[0])"
   ]
  },
  {
   "cell_type": "markdown",
   "id": "63516232",
   "metadata": {},
   "source": [
    "Test Dataset"
   ]
  },
  {
   "cell_type": "code",
   "execution_count": 20,
   "id": "1b314152",
   "metadata": {},
   "outputs": [
    {
     "name": "stdout",
     "output_type": "stream",
     "text": [
      "Randomly printing 10 images with labels from testing dataset\n",
      "index: 5468\n",
      "Lable: 3\n"
     ]
    },
    {
     "data": {
      "image/png": "[encoded data removed]",
      "text/plain": [
       "<Figure size 432x288 with 1 Axes>"
      ]
     },
     "metadata": {
      "needs_background": "light"
     },
     "output_type": "display_data"
    },
    {
     "name": "stdout",
     "output_type": "stream",
     "text": [
      "index: 7395\n",
      "Lable: 1\n"
     ]
    },
    {
     "data": {
      "image/png": "[encoded data removed]",
      "text/plain": [
       "<Figure size 432x288 with 1 Axes>"
      ]
     },
     "metadata": {
      "needs_background": "light"
     },
     "output_type": "display_data"
    },
    {
     "name": "stdout",
     "output_type": "stream",
     "text": [
      "index: 907\n",
      "Lable: 1\n"
     ]
    },
    {
     "data": {
      "image/png": "[encoded data removed]",
      "text/plain": [
       "<Figure size 432x288 with 1 Axes>"
      ]
     },
     "metadata": {
      "needs_background": "light"
     },
     "output_type": "display_data"
    },
    {
     "name": "stdout",
     "output_type": "stream",
     "text": [
      "index: 8039\n",
      "Lable: 4\n"
     ]
    },
    {
     "data": {
      "image/png": "[encoded data removed]",
      "text/plain": [
       "<Figure size 432x288 with 1 Axes>"
      ]
     },
     "metadata": {
      "needs_background": "light"
     },
     "output_type": "display_data"
    },
    {
     "name": "stdout",
     "output_type": "stream",
     "text": [
      "index: 5286\n",
      "Lable: 6\n"
     ]
    },
    {
     "data": {
      "image/png": "[encoded data removed]",
      "text/plain": [
       "<Figure size 432x288 with 1 Axes>"
      ]
     },
     "metadata": {
      "needs_background": "light"
     },
     "output_type": "display_data"
    },
    {
     "name": "stdout",
     "output_type": "stream",
     "text": [
      "index: 5755\n",
      "Lable: 6\n"
     ]
    },
    {
     "data": {
      "image/png": "[encoded data removed]",
      "text/plain": [
       "<Figure size 432x288 with 1 Axes>"
      ]
     },
     "metadata": {
      "needs_background": "light"
     },
     "output_type": "display_data"
    },
    {
     "name": "stdout",
     "output_type": "stream",
     "text": [
      "index: 313\n",
      "Lable: 3\n"
     ]
    },
    {
     "data": {
      "image/png": "[encoded data removed]",
      "text/plain": [
       "<Figure size 432x288 with 1 Axes>"
      ]
     },
     "metadata": {
      "needs_background": "light"
     },
     "output_type": "display_data"
    },
    {
     "name": "stdout",
     "output_type": "stream",
     "text": [
      "index: 5467\n",
      "Lable: 6\n"
     ]
    },
    {
     "data": {
      "image/png": "[encoded data removed]",
      "text/plain": [
       "<Figure size 432x288 with 1 Axes>"
      ]
     },
     "metadata": {
      "needs_background": "light"
     },
     "output_type": "display_data"
    },
    {
     "name": "stdout",
     "output_type": "stream",
     "text": [
      "index: 8272\n",
      "Lable: 3\n"
     ]
    },
    {
     "data": {
      "image/png": "[encoded data removed]",
      "text/plain": [
       "<Figure size 432x288 with 1 Axes>"
      ]
     },
     "metadata": {
      "needs_background": "light"
     },
     "output_type": "display_data"
    },
    {
     "name": "stdout",
     "output_type": "stream",
     "text": [
      "index: 704\n",
      "Lable: 0\n"
     ]
    },
    {
     "data": {
      "image/png": "[encoded data removed]",
      "text/plain": [
       "<Figure size 432x288 with 1 Axes>"
      ]
     },
     "metadata": {
      "needs_background": "light"
     },
     "output_type": "display_data"
    }
   ],
   "source": [
    "print(\"Randomly printing 10 images with labels from testing dataset\")\n",
    "\n",
    "display_random_images_with_labels(dataset[1])"
   ]
  },
  {
   "cell_type": "code",
   "execution_count": null,
   "id": "4c4f5e3c",
   "metadata": {},
   "outputs": [],
   "source": []
  }
 ],
 "metadata": {
  "kernelspec": {
   "display_name": "Python 3 (ipykernel)",
   "language": "python",
   "name": "python3"
  },
  "language_info": {
   "codemirror_mode": {
    "name": "ipython",
    "version": 3
   },
   "file_extension": ".py",
   "mimetype": "text/x-python",
   "name": "python",
   "nbconvert_exporter": "python",
   "pygments_lexer": "ipython3",
   "version": "3.9.12"
  }
 },
 "nbformat": 4,
 "nbformat_minor": 5
}
