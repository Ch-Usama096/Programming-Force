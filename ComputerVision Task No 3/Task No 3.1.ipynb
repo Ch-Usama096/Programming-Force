{
 "cells": [
  {
   "cell_type": "code",
   "execution_count": 10,
   "id": "02cb8b0e",
   "metadata": {},
   "outputs": [],
   "source": [
    "import os\n",
    "import cv2\n",
    "import numpy as np\n",
    "import json\n",
    "from PIL import Image, ImageEnhance\n",
    "import random"
   ]
  },
  {
   "cell_type": "code",
   "execution_count": 11,
   "id": "7385dcac",
   "metadata": {},
   "outputs": [],
   "source": [
    "def convert_via_to_yolo(via_file_path, output_dir):\n",
    "    with open(via_file_path, 'r') as via_file:\n",
    "        via_data = json.load(via_file)\n",
    "\n",
    "    images_output_dir = os.path.join(output_dir, 'images')\n",
    "    labels_output_dir = os.path.join(output_dir, 'labels')\n",
    "    os.makedirs(images_output_dir, exist_ok=True)\n",
    "    os.makedirs(labels_output_dir, exist_ok=True)\n",
    "\n",
    "    for image_id, image_data in via_data['_via_img_metadata'].items():\n",
    "        image_path = os.path.join('E:\\software\\Task2\\dataset\\computer vision synthetic dataset\\cat_dog', image_data['filename'])\n",
    "        image_name = os.path.basename(image_path)\n",
    "        image_name_without_ext = os.path.splitext(image_name)[0]\n",
    "\n",
    "        image = Image.open(image_path)\n",
    "        image_width, image_height = image.size\n",
    "\n",
    "        annotations = []\n",
    "        for region in image_data['regions']:\n",
    "            shape_attributes = region['shape_attributes']\n",
    "            x = shape_attributes['x']\n",
    "            y = shape_attributes['y']\n",
    "            width = shape_attributes['width']\n",
    "            height = shape_attributes['height']\n",
    "\n",
    "            # Normalize bounding box coordinates\n",
    "            x_normalized = x / image_width\n",
    "            y_normalized = y / image_height\n",
    "            width_normalized = width / image_width\n",
    "            height_normalized = height / image_height\n",
    "\n",
    "            class_label = region['region_attributes'].get('name', '')\n",
    "            yolo_annotation = f\"{class_label} {x_normalized} {y_normalized} {width_normalized} {height_normalized}\"\n",
    "            annotations.append(yolo_annotation)\n",
    "\n",
    "        save_label(yolo_annotation, labels_output_dir, image_name_without_ext)\n",
    "\n",
    "        \n",
    "        # Save original image\n",
    "        image.save(os.path.join(images_output_dir, f\"{image_name_without_ext}.jpg\"))\n",
    "\n",
    "        # Augment images with random brightness\n",
    "        for i in range(1, 6):\n",
    "            augmented_image = apply_brightness(image)\n",
    "            augmented_image_name = f\"{image_name_without_ext}_brightness_{i}.jpg\"\n",
    "            augmented_image.save(os.path.join(images_output_dir, augmented_image_name))\n",
    "            augmented_image_name_without_ext = os.path.splitext(augmented_image_name)[0]\n",
    "            save_label(yolo_annotation, labels_output_dir, augmented_image_name_without_ext)\n",
    "\n",
    "        # Augment images with random noise\n",
    "        for i in range(1, 6):\n",
    "            augmented_image = apply_noise(image)\n",
    "            augmented_image_name = f\"{image_name_without_ext}_noise_{i}.jpg\"\n",
    "            augmented_image.save(os.path.join(images_output_dir, augmented_image_name))\n",
    "            augmented_image_name_without_ext = os.path.splitext(augmented_image_name)[0]\n",
    "            save_label(yolo_annotation, labels_output_dir, augmented_image_name_without_ext)"
   ]
  },
  {
   "cell_type": "code",
   "execution_count": 12,
   "id": "514f4e6a",
   "metadata": {},
   "outputs": [],
   "source": [
    "def apply_brightness(image):\n",
    "    enhancer = ImageEnhance.Brightness(image)\n",
    "    brightness_factor = random.uniform(0.7, 1.3)\n",
    "    enhanced_image = enhancer.enhance(brightness_factor)\n",
    "    return enhanced_image\n",
    "\n",
    "def apply_noise(image):\n",
    "    image = np.array(image)\n",
    "    noise_factor = random.uniform(0.05, 0.15)\n",
    "    noisy_image = image + noise_factor * np.random.randn(*image.shape)\n",
    "    noisy_image = np.clip(noisy_image, 0, 255).astype(np.uint8)\n",
    "    return Image.fromarray(noisy_image)\n",
    "\n",
    "def save_label(yolo_annotation, labels_output_dir, image_name_without_ext):\n",
    "    label_file_path = os.path.join(labels_output_dir, f\"{image_name_without_ext}.txt\")\n",
    "    with open(label_file_path, 'w') as label_file:\n",
    "        label_file.write(yolo_annotation)"
   ]
  },
  {
   "cell_type": "code",
   "execution_count": 13,
   "id": "17752c30",
   "metadata": {},
   "outputs": [],
   "source": [
    "json_file = 'cat_dog.json'\n",
    "output_folder = 'E:\\software\\Task2\\dataset\\computer vision synthetic dataset\\Result'"
   ]
  },
  {
   "cell_type": "code",
   "execution_count": 14,
   "id": "48fd61f5",
   "metadata": {},
   "outputs": [],
   "source": [
    "convert_via_to_yolo(json_file, output_folder)"
   ]
  }
 ],
 "metadata": {
  "kernelspec": {
   "display_name": "Python 3 (ipykernel)",
   "language": "python",
   "name": "python3"
  },
  "language_info": {
   "codemirror_mode": {
    "name": "ipython",
    "version": 3
   },
   "file_extension": ".py",
   "mimetype": "text/x-python",
   "name": "python",
   "nbconvert_exporter": "python",
   "pygments_lexer": "ipython3",
   "version": "3.9.12"
  }
 },
 "nbformat": 4,
 "nbformat_minor": 5
}
