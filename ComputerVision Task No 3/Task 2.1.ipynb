{
 "cells": [
  {
   "cell_type": "code",
   "execution_count": 1,
   "id": "d5501834",
   "metadata": {},
   "outputs": [],
   "source": [
    "import numpy as np\n",
    "import pandas as pd\n",
    "from PIL import Image\n",
    "import cv2\n",
    "import json"
   ]
  },
  {
   "cell_type": "code",
   "execution_count": 3,
   "id": "a8e64a67",
   "metadata": {},
   "outputs": [],
   "source": [
    "# Load VGG annotation file\n",
    "with open('cat_dog_annotation.json', 'r') as file:\n",
    "    vgg_annotation = json.load(file)"
   ]
  },
  {
   "cell_type": "code",
   "execution_count": 4,
   "id": "f12e2853",
   "metadata": {},
   "outputs": [],
   "source": [
    "def vgg_to_coco(vgg_annotation):\n",
    "    images = vgg_annotation['_via_img_metadata']\n",
    "    \n",
    "    coco_annotations = {\n",
    "        'info': {},\n",
    "        'licenses': [],\n",
    "        'categories': [],\n",
    "        'images': [],\n",
    "        'annotations': []\n",
    "    }\n",
    "    \n",
    "    category_mapping = {}\n",
    "    category_id = 0\n",
    "    annotation_id = 1\n",
    "    \n",
    "    for image_id, image_data in images.items():\n",
    "        filename = image_data['filename']\n",
    "        width = image_data['size']\n",
    "        height = image_data['size']\n",
    "        annotations = image_data['regions']\n",
    "        \n",
    "        # Extract the numeric part of the image ID\n",
    "        image_id = int(image_id.split('.')[0])\n",
    "        \n",
    "        # Add image information  \n",
    "        image_info = {\n",
    "            'id': image_id,\n",
    "            'file_name': filename,\n",
    "            'width': width,\n",
    "            'height': height,\n",
    "        }\n",
    "        coco_annotations['images'].append(image_info)\n",
    "        \n",
    "        for annotation in annotations:\n",
    "            shape_attributes = annotation['shape_attributes']\n",
    "            region_attributes = annotation['region_attributes']\n",
    "            \n",
    "            label = region_attributes['name']\n",
    "            \n",
    "            # Check if category is already defined, otherwise add it\n",
    "            if label not in category_mapping:\n",
    "                category_id += 1\n",
    "                category_mapping[label] = category_id\n",
    "                category_info = {\n",
    "                    'id': category_id,\n",
    "                    'name': label,\n",
    "                    'supercategory': 'object',\n",
    "                }\n",
    "                coco_annotations['categories'].append(category_info)\n",
    "            \n",
    "            x = shape_attributes['x']\n",
    "            y = shape_attributes['y']\n",
    "            w = shape_attributes['width']\n",
    "            h = shape_attributes['height']\n",
    "            \n",
    "            # Add annotation information\n",
    "            annotation_info = {\n",
    "                'id': annotation_id,\n",
    "                'image_id': image_id,\n",
    "                'category_id': category_mapping[label],\n",
    "                'bbox': [x, y, w, h],\n",
    "                'area': w * h,\n",
    "                'iscrowd': 0,\n",
    "            }\n",
    "            coco_annotations['annotations'].append(annotation_info)\n",
    "            \n",
    "            annotation_id += 1\n",
    "    \n",
    "    return coco_annotations"
   ]
  },
  {
   "cell_type": "code",
   "execution_count": 5,
   "id": "89933165",
   "metadata": {},
   "outputs": [],
   "source": [
    "# Convert VGG annotation to COCO format\n",
    "coco_annotations = vgg_to_coco(vgg_annotation)\n",
    "\n",
    "# Save COCO annotations to a file\n",
    "with open('annotations.json', 'w') as file:\n",
    "    json.dump(coco_annotations, file)\n"
   ]
  }
 ],
 "metadata": {
  "kernelspec": {
   "display_name": "Python 3 (ipykernel)",
   "language": "python",
   "name": "python3"
  },
  "language_info": {
   "codemirror_mode": {
    "name": "ipython",
    "version": 3
   },
   "file_extension": ".py",
   "mimetype": "text/x-python",
   "name": "python",
   "nbconvert_exporter": "python",
   "pygments_lexer": "ipython3",
   "version": "3.9.12"
  }
 },
 "nbformat": 4,
 "nbformat_minor": 5
}
