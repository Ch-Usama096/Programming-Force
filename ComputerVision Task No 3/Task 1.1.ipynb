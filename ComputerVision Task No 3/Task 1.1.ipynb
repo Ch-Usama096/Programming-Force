{
 "cells": [
  {
   "cell_type": "code",
   "execution_count": 5,
   "id": "06b7c9e8",
   "metadata": {},
   "outputs": [],
   "source": [
    "import numpy as np\n",
    "import pandas as pd\n",
    "from PIL import Image\n",
    "import cv2\n",
    "import json"
   ]
  },
  {
   "cell_type": "code",
   "execution_count": 8,
   "id": "949df024",
   "metadata": {},
   "outputs": [],
   "source": [
    "# Load VGG annotation file\n",
    "with open('cat_dog_annotation.json', 'r') as file:\n",
    "    vgg_annotation = json.load(file)"
   ]
  },
  {
   "cell_type": "code",
   "execution_count": 9,
   "id": "2edb3787",
   "metadata": {},
   "outputs": [],
   "source": [
    "# Define the Function that convert the into YOLO\n",
    "def vgg_to_yolo(vgg_annotation):\n",
    "    images = vgg_annotation['_via_img_metadata']\n",
    "    \n",
    "    yolo_annotations = []\n",
    "    for image_id, image_data in images.items():\n",
    "        filename = image_data['filename']\n",
    "        width = image_data['size']\n",
    "        height = image_data['size']\n",
    "        annotations = image_data['regions']\n",
    "        \n",
    "        for annotation in annotations:\n",
    "            shape_attributes = annotation['shape_attributes']\n",
    "            region_attributes = annotation['region_attributes']\n",
    "            \n",
    "            label = region_attributes['name']\n",
    "            x = shape_attributes['x']\n",
    "            y = shape_attributes['y']\n",
    "            w = shape_attributes['width']\n",
    "            h = shape_attributes['height']\n",
    "            \n",
    "            x_center = (x + w / 2) / width\n",
    "            y_center = (y + h / 2) / height\n",
    "            bbox_width = w / width\n",
    "            bbox_height = h / height\n",
    "            \n",
    "            yolo_annotation = {\n",
    "                'label': label,\n",
    "                'x_center': x_center,\n",
    "                'y_center': y_center,\n",
    "                'width': bbox_width,\n",
    "                'height': bbox_height\n",
    "            }\n",
    "            yolo_annotations.append(yolo_annotation)\n",
    "    \n",
    "    return yolo_annotations"
   ]
  },
  {
   "cell_type": "code",
   "execution_count": 10,
   "id": "4afc82e8",
   "metadata": {},
   "outputs": [],
   "source": [
    "# Convert VGG annotation to YOLO format\n",
    "yolo_annotations = vgg_to_yolo(vgg_annotation)\n",
    "\n",
    "# Save YOLO annotations to a file\n",
    "with open('annotations.txt', 'w') as file:\n",
    "    for annotation in yolo_annotations:\n",
    "        line = f\"{annotation['label']} {annotation['x_center']} {annotation['y_center']} {annotation['width']} {annotation['height']}\\n\"\n",
    "        file.write(line)"
   ]
  },
  {
   "cell_type": "code",
   "execution_count": null,
   "id": "256ff036",
   "metadata": {},
   "outputs": [],
   "source": []
  }
 ],
 "metadata": {
  "kernelspec": {
   "display_name": "Python 3 (ipykernel)",
   "language": "python",
   "name": "python3"
  },
  "language_info": {
   "codemirror_mode": {
    "name": "ipython",
    "version": 3
   },
   "file_extension": ".py",
   "mimetype": "text/x-python",
   "name": "python",
   "nbconvert_exporter": "python",
   "pygments_lexer": "ipython3",
   "version": "3.9.12"
  }
 },
 "nbformat": 4,
 "nbformat_minor": 5
}
