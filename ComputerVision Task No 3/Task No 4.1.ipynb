{
 "cells": [
  {
   "cell_type": "code",
   "execution_count": 2,
   "id": "48c527f4",
   "metadata": {},
   "outputs": [],
   "source": [
    "import cv2\n",
    "import numpy as np\n",
    "import os\n",
    "import glob\n",
    "import shutil"
   ]
  },
  {
   "cell_type": "code",
   "execution_count": 3,
   "id": "17c4c4ea",
   "metadata": {},
   "outputs": [],
   "source": [
    "# Define the directories for images and labels\n",
    "image_dir = \"E:\\software\\Task2\\dataset\\computer vision synthetic dataset\\cat_dog\"\n",
    "label_dir = \"E:\\software\\Task2\\dataset\\computer vision synthetic dataset\\lable images\"\n",
    "\n",
    "# Create output directories\n",
    "output_image_dir = \"E:\\software\\Task2\\dataset\\computer vision synthetic dataset\\image output\"\n",
    "output_label_dir = \"E:\\software\\Task2\\dataset\\computer vision synthetic dataset\\lable images\"\n",
    "\n",
    "os.makedirs(output_image_dir, exist_ok=True)\n",
    "os.makedirs(output_label_dir, exist_ok=True)\n",
    "\n",
    "# Define augmentation parameters\n",
    "scale_factors = [0.5, 2.0, 3.0]\n",
    "\n",
    "# Load images and process them\n",
    "image_paths = glob.glob(os.path.join(image_dir, \"*.jpeg\"))\n",
    "for image_path in image_paths:\n",
    "    # Load the original image\n",
    "    image = cv2.imread(image_path)\n",
    "    height, width, _ = image.shape\n",
    "\n",
    "    # Convert the image to YOLO format\n",
    "    yolo_labels = []  # List to store the YOLO labels\n",
    "\n",
    "    # Process the original image\n",
    "    basename = os.path.basename(image_path)\n",
    "    image_name = os.path.splitext(basename)[0]\n",
    "    output_image_path = os.path.join(output_image_dir, f\"{image_name}.jpeg\")\n",
    "    output_label_path = os.path.join(output_label_dir, f\"{image_name}.txt\")\n",
    "\n",
    "    # Save the original image and label\n",
    "    cv2.imwrite(output_image_path, image)\n",
    "    with open(output_label_path, \"w\") as f:\n",
    "        f.write(\"YOLO labels for the original image\")\n",
    "\n",
    "    # Augment image with different sizes\n",
    "    for idx, scale_factor in enumerate(scale_factors, start=1):\n",
    "        new_height = int(height * scale_factor)\n",
    "        new_width = int(width * scale_factor)\n",
    "        augmented_image = cv2.resize(image, (new_width, new_height))\n",
    "\n",
    "        augmented_image_name = f\"{image_name}_{scale_factor}size.jpeg\"\n",
    "        augmented_image_path = os.path.join(output_image_dir, augmented_image_name)\n",
    "        augmented_label_path = os.path.join(output_label_dir, f\"{image_name}_{scale_factor}size.txt\")\n",
    "\n",
    "        # Save the augmented image and label\n",
    "        cv2.imwrite(augmented_image_path, augmented_image)\n",
    "        with open(augmented_label_path, \"w\") as f:\n",
    "            f.write(\"YOLO labels for the augmented image (size)\")"
   ]
  },
  {
   "cell_type": "code",
   "execution_count": 4,
   "id": "6922518d",
   "metadata": {},
   "outputs": [
    {
     "data": {
      "text/plain": [
       "'E:\\\\software\\\\Task2\\\\output.zip'"
      ]
     },
     "execution_count": 4,
     "metadata": {},
     "output_type": "execute_result"
    }
   ],
   "source": [
    "# Define the path to the folder you want to zip\n",
    "folder_path = 'E:\\software\\Task2\\output'\n",
    "\n",
    "# Define the output zip file path and name\n",
    "output_zip_path = 'E:\\software\\Task2\\output'\n",
    "\n",
    "# Create the zip archive\n",
    "shutil.make_archive(output_zip_path, 'zip', folder_path)"
   ]
  },
  {
   "cell_type": "code",
   "execution_count": null,
   "id": "2d4f49e5",
   "metadata": {},
   "outputs": [],
   "source": []
  }
 ],
 "metadata": {
  "kernelspec": {
   "display_name": "Python 3 (ipykernel)",
   "language": "python",
   "name": "python3"
  },
  "language_info": {
   "codemirror_mode": {
    "name": "ipython",
    "version": 3
   },
   "file_extension": ".py",
   "mimetype": "text/x-python",
   "name": "python",
   "nbconvert_exporter": "python",
   "pygments_lexer": "ipython3",
   "version": "3.9.12"
  }
 },
 "nbformat": 4,
 "nbformat_minor": 5
}
