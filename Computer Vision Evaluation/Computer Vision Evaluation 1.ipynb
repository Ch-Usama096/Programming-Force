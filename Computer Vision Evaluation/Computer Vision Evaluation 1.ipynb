{
 "cells": [
  {
   "cell_type": "code",
   "execution_count": 53,
   "id": "891f217f",
   "metadata": {},
   "outputs": [],
   "source": [
    "import cv2\n",
    "from PIL import Image , ImageEnhance\n",
    "import numpy as np\n",
    "import json\n",
    "import os\n",
    "import math\n",
    "import random\n",
    "import matplotlib.pyplot as plt"
   ]
  },
  {
   "cell_type": "markdown",
   "id": "d7fcffa6",
   "metadata": {},
   "source": [
    "<b>Boundary Box with VGG Annotaion Json File"
   ]
  },
  {
   "cell_type": "code",
   "execution_count": 54,
   "id": "5dc45a6a",
   "metadata": {},
   "outputs": [],
   "source": [
    "def boundary_box_json(data , cat_dog_path):\n",
    "    \n",
    "    for key_name in data.keys():\n",
    "        image_name = data[key_name][\"filename\"]\n",
    "        image_path = os.path.join(cat_dog_path , image_name)\n",
    "\n",
    "        # Read the File with CV2\n",
    "        cv2_image = cv2.imread(image_path)\n",
    "        cv2_image = cv2.cvtColor(cv2_image , cv2.COLOR_BGR2RGB)\n",
    "\n",
    "        annotation = data[key_name][\"regions\"]\n",
    "\n",
    "        # Resize the Image and Boundary Box\n",
    "        resized_image , resized_x , resized_y , resized_width , resied_height  = resize_image(cv2_image , annotation)\n",
    "\n",
    "        # Bright the Image\n",
    "        bright_name = bright_image(resized_image)\n",
    "\n",
    "        # Rotate the Image with differnet Angle\n",
    "        for angle in range(5,361,5):\n",
    "            rotate_image , rotate_annotation = image_angle(resized_image , angle , annotation)\n",
    "\n",
    "            # Save the Image\n",
    "            image_save(rotate_image , rotate_annotation , image_name , angle)"
   ]
  },
  {
   "cell_type": "code",
   "execution_count": 55,
   "id": "f1800408",
   "metadata": {},
   "outputs": [],
   "source": [
    "def resize_image(image , annotations):\n",
    "   # Generate the random number between 60-100\n",
    "    random_number = random.randint(60, 100) / 100\n",
    "\n",
    "    # Get the width and height of the image\n",
    "    img_height, img_width, ch = image.shape\n",
    "    \n",
    "    # Resize the image with width and height\n",
    "    resized_width = int(img_width * random_number)\n",
    "    resized_height = int(img_height * random_number)\n",
    "    \n",
    "    resized_image = cv2.resize(image, (resized_width, resized_height))\n",
    "\n",
    "    for annotate in annotations:\n",
    "        x = int(annotate[\"shape_attributes\"][\"x\"] * random_number)\n",
    "        y = int(annotate[\"shape_attributes\"][\"y\"] * random_number)\n",
    "        width = int(annotate[\"shape_attributes\"][\"width\"] * random_number)\n",
    "        height = int(annotate[\"shape_attributes\"][\"height\"] * random_number)\n",
    "        #cv2.rectangle(resized_image, (x, y), (x + width, y + height), (100, 100, 100), 2)\n",
    "    \n",
    "    return resized_image , x , y , width , height"
   ]
  },
  {
   "cell_type": "code",
   "execution_count": 56,
   "id": "8853f2f5",
   "metadata": {},
   "outputs": [],
   "source": [
    "def bright_image(image):\n",
    "    # Convert the Image into PIL Image\n",
    "    pil_image = Image.fromarray(image)\n",
    "    \n",
    "    # Enchance Image\n",
    "    enhance_image = ImageEnhance.Brightness(pil_image)\n",
    "    brightness    = random.uniform(0.6, 1.4)\n",
    "    bright_image  = enhance_image.enhance(brightness)\n",
    "    \n",
    "    return bright_image"
   ]
  },
  {
   "cell_type": "code",
   "execution_count": 57,
   "id": "e9b57794",
   "metadata": {},
   "outputs": [],
   "source": [
    "def image_angle(image , angle , annotations):\n",
    "    # Convert the Image into PIL Image\n",
    "    pil_image = Image.fromarray(image)\n",
    "    \n",
    "    rotated_image = pil_image.rotate(angle, expand=True)\n",
    "    \n",
    "    # Adjust bounding boxes\n",
    "    for annotation in annotations:\n",
    "        bbox = annotation['shape_attributes']\n",
    "        rotated_bbox = rotate_bbox(bbox, pil_image.width , pil_image.height, angle)\n",
    "        annotation['shape_attributes'] = rotated_bbox\n",
    "    \n",
    "    return rotated_image, annotations"
   ]
  },
  {
   "cell_type": "code",
   "execution_count": 58,
   "id": "ea913618",
   "metadata": {},
   "outputs": [],
   "source": [
    "def rotate_bbox(bbox, img_width, img_height, angle):\n",
    "    # Convert to radians\n",
    "    angle_rad = math.radians(angle)\n",
    "    \n",
    "    # Center coordinates\n",
    "    center_x = bbox['x'] + bbox['width'] / 2\n",
    "    center_y = bbox['y'] + bbox['height'] / 2\n",
    "    \n",
    "    # New center coordinates after rotation\n",
    "    new_center_x = round(center_x * math.cos(angle_rad) - center_y * math.sin(angle_rad))\n",
    "    new_center_y = round(center_x * math.sin(angle_rad) + center_y * math.cos(angle_rad))\n",
    "    \n",
    "    # Update bbox coordinates\n",
    "    bbox['x'] = new_center_x - bbox['width'] / 2\n",
    "    bbox['y'] = new_center_y - bbox['height'] / 2\n",
    "    \n",
    "    # Handle out-of-bounds coordinates\n",
    "    bbox['x'] = max(0, bbox['x'])\n",
    "    bbox['y'] = max(0, bbox['y'])\n",
    "    bbox['x'] = min(img_width - bbox['width'], bbox['x'])\n",
    "    bbox['y'] = min(img_height - bbox['height'], bbox['y'])\n",
    "    \n",
    "    return bbox"
   ]
  },
  {
   "cell_type": "code",
   "execution_count": 59,
   "id": "d0cecbc7",
   "metadata": {},
   "outputs": [],
   "source": [
    "def image_save(image, annotations, image_id, angle):\n",
    "    output_dir = \"E:/software/evaluation/output\"\n",
    "    \n",
    "    # Save image\n",
    "    image_name = f\"{image_id[0]}_angle_{angle}.jpg\"\n",
    "    image.save(os.path.join(output_dir, image_name))\n",
    "    \n",
    "    # Rename the FileName in annotation\n",
    "    for annotation in annotations:\n",
    "        annotation['filename'] = image_name\n",
    "    \n",
    "#     # Save annotations\n",
    "    json_data = {\n",
    "        '_via_img_metadata': {\n",
    "            image_id[0]: {\n",
    "                'filename': image_name,\n",
    "                'regions': annotations\n",
    "            }\n",
    "        }\n",
    "    }\n",
    "    \n",
    "    annotation_name = f\"{image_id[0]}_angle_{angle}.json\"\n",
    "    with open(os.path.join(output_dir, annotation_name), 'w') as f:\n",
    "        json.dump(json_data, f)"
   ]
  },
  {
   "cell_type": "markdown",
   "id": "4c439895",
   "metadata": {},
   "source": [
    "<b>Read the VGG Annotaion Json File"
   ]
  },
  {
   "cell_type": "code",
   "execution_count": 60,
   "id": "5ab911d5",
   "metadata": {},
   "outputs": [],
   "source": [
    "# Read the Coco json file\n",
    "coco_file_path = \"E:/software/evaluation/cat_dog_annotation_file.json\"\n",
    "with open(coco_file_path) as f:\n",
    "    data = json.load(f)"
   ]
  },
  {
   "cell_type": "code",
   "execution_count": 61,
   "id": "22cafdf0",
   "metadata": {},
   "outputs": [],
   "source": [
    "# Cat and Dog Folder Path\n",
    "cat_dog_path = \"E:/software/evaluation/cat_dog\"\n",
    "boundary_box_json(data , cat_dog_path)"
   ]
  }
 ],
 "metadata": {
  "kernelspec": {
   "display_name": "Python 3 (ipykernel)",
   "language": "python",
   "name": "python3"
  },
  "language_info": {
   "codemirror_mode": {
    "name": "ipython",
    "version": 3
   },
   "file_extension": ".py",
   "mimetype": "text/x-python",
   "name": "python",
   "nbconvert_exporter": "python",
   "pygments_lexer": "ipython3",
   "version": "3.9.12"
  }
 },
 "nbformat": 4,
 "nbformat_minor": 5
}
