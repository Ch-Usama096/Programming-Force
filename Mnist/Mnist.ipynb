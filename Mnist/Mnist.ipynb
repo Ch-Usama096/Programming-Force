{
 "cells": [
  {
   "cell_type": "markdown",
   "id": "068bb9a6",
   "metadata": {},
   "source": [
    "<b>Modules"
   ]
  },
  {
   "cell_type": "code",
   "execution_count": 1,
   "id": "45806c1f",
   "metadata": {},
   "outputs": [],
   "source": [
    "import tensorflow.keras as modle\n",
    "import random\n",
    "import collections\n",
    "import numpy as np\n",
    "import matplotlib.pyplot as plt"
   ]
  },
  {
   "cell_type": "markdown",
   "id": "9d5efaaf",
   "metadata": {},
   "source": [
    "<b>Display Images with Label Randomly"
   ]
  },
  {
   "cell_type": "code",
   "execution_count": 2,
   "id": "f847818d",
   "metadata": {},
   "outputs": [],
   "source": [
    "def display_random_images_with_labels(d, n=10):\n",
    "    \"\"\"\n",
    "        accept dataset in tuple form, first index\n",
    "        is np arrays (images) and second is labels\n",
    "        and display n random images with labels\n",
    "        from it\n",
    "        Inputs:\n",
    "            d (tuple): dataset images, dataset labels on same indexs\n",
    "            n (int): number of samples to display (default: 10)\n",
    "        Output:\n",
    "            None\n",
    "    \"\"\"\n",
    "    choices = list(range(len(d[0])))\n",
    "    for i in range(n):\n",
    "        index = random.choice(choices)\n",
    "        choices.remove(index)\n",
    "        print(\"index:\",index)\n",
    "        print(\"Lable:\",d[1][index])\n",
    "        plt.imshow(d[0][index], cmap='gray')\n",
    "        plt.show()"
   ]
  },
  {
   "cell_type": "markdown",
   "id": "7a0b2bad",
   "metadata": {},
   "source": [
    "<b>Information About Dataset"
   ]
  },
  {
   "cell_type": "code",
   "execution_count": 3,
   "id": "e82d919d",
   "metadata": {},
   "outputs": [],
   "source": [
    "# Loading dataset\n",
    "dataset = modle.datasets.mnist.load_data()"
   ]
  },
  {
   "cell_type": "code",
   "execution_count": 4,
   "id": "ef72fa13",
   "metadata": {},
   "outputs": [
    {
     "name": "stdout",
     "output_type": "stream",
     "text": [
      "There are 60000 images in training dataset\n",
      "There are 10000 images in Testing  dataset\n"
     ]
    }
   ],
   "source": [
    "# Display the Length of the Training & Testing Dataset\n",
    "print(\"There are\",len(dataset[0][0]),\"images in training dataset\")\n",
    "print(\"There are\",len(dataset[1][0]),\"images in Testing  dataset\")"
   ]
  },
  {
   "cell_type": "code",
   "execution_count": 5,
   "id": "b5b74f07",
   "metadata": {},
   "outputs": [
    {
     "name": "stdout",
     "output_type": "stream",
     "text": [
      "The Shape of the Traning Dataset is : (60000, 28, 28)\n",
      "The Shape of the Testing Dataset is : (10000, 28, 28)\n"
     ]
    }
   ],
   "source": [
    "# Display the total Images and Shape of the Images (Training & Testing)\n",
    "print('The Shape of the Traning Dataset is : {}'.format(dataset[0][0].shape))\n",
    "print('The Shape of the Testing Dataset is : {}'.format(dataset[1][0].shape))"
   ]
  },
  {
   "cell_type": "code",
   "execution_count": 6,
   "id": "dc4a93c6",
   "metadata": {},
   "outputs": [
    {
     "name": "stdout",
     "output_type": "stream",
     "text": [
      "The Shape of the First Traning Image is  : (28, 28)\n",
      "The Shape of the Second Testing Image is : (28, 28)\n"
     ]
    }
   ],
   "source": [
    "# Display the Shape of the Each Image ( Training & Testing Dataset )\n",
    "print('The Shape of the First Traning Image is  : {}'.format(dataset[0][0][0].shape))\n",
    "print('The Shape of the Second Testing Image is : {}'.format(dataset[1][0][0].shape))"
   ]
  },
  {
   "cell_type": "code",
   "execution_count": 7,
   "id": "73828a5d",
   "metadata": {},
   "outputs": [
    {
     "name": "stdout",
     "output_type": "stream",
     "text": [
      "The Total Label of the Tarining Dataset is : (60000,)\n",
      "The Total Label of the Testing  Dataset is : (10000,)\n"
     ]
    }
   ],
   "source": [
    "# Display the Total Labels of the Training & Testing Dataset\n",
    "print('The Total Label of the Tarining Dataset is : {}'.format(dataset[0][1].shape))\n",
    "print('The Total Label of the Testing  Dataset is : {}'.format(dataset[1][1].shape))"
   ]
  },
  {
   "cell_type": "code",
   "execution_count": 8,
   "id": "1aca9e54",
   "metadata": {},
   "outputs": [
    {
     "name": "stdout",
     "output_type": "stream",
     "text": [
      "There are 60000 labels in training dataset for 60000 images in training dataset\n",
      "There are 10000 labels in Testing  dataset for 10000 images in Testing  dataset\n"
     ]
    }
   ],
   "source": [
    "# Again Display the Labels of Training & Testing\n",
    "print(\"There are\",len(dataset[0][1]),\"labels in training dataset for\",len(dataset[0][0]),\"images in training dataset\")\n",
    "print(\"There are\",len(dataset[1][1]),\"labels in Testing  dataset for\",len(dataset[1][0]),\"images in Testing  dataset\")"
   ]
  },
  {
   "cell_type": "markdown",
   "id": "518fcecd",
   "metadata": {},
   "source": [
    "<b>Display the Images (Training & Testing)"
   ]
  },
  {
   "cell_type": "code",
   "execution_count": 9,
   "id": "e3475c8a",
   "metadata": {},
   "outputs": [
    {
     "name": "stdout",
     "output_type": "stream",
     "text": [
      "Randomly printing 10 images with labels from training dataset\n",
      "index: 19880\n",
      "Lable: 1\n"
     ]
    },
    {
     "data": {
      "image/png": "[encoded data removed]",
      "text/plain": [
       "<Figure size 432x288 with 1 Axes>"
      ]
     },
     "metadata": {
      "needs_background": "light"
     },
     "output_type": "display_data"
    },
    {
     "name": "stdout",
     "output_type": "stream",
     "text": [
      "index: 22236\n",
      "Lable: 2\n"
     ]
    },
    {
     "data": {
      "image/png": "[encoded data removed]",
      "text/plain": [
       "<Figure size 432x288 with 1 Axes>"
      ]
     },
     "metadata": {
      "needs_background": "light"
     },
     "output_type": "display_data"
    },
    {
     "name": "stdout",
     "output_type": "stream",
     "text": [
      "index: 32115\n",
      "Lable: 3\n"
     ]
    },
    {
     "data": {
      "image/png": "[encoded data removed]",
      "text/plain": [
       "<Figure size 432x288 with 1 Axes>"
      ]
     },
     "metadata": {
      "needs_background": "light"
     },
     "output_type": "display_data"
    },
    {
     "name": "stdout",
     "output_type": "stream",
     "text": [
      "index: 50577\n",
      "Lable: 1\n"
     ]
    },
    {
     "data": {
      "image/png": "[encoded data removed]",
      "text/plain": [
       "<Figure size 432x288 with 1 Axes>"
      ]
     },
     "metadata": {
      "needs_background": "light"
     },
     "output_type": "display_data"
    },
    {
     "name": "stdout",
     "output_type": "stream",
     "text": [
      "index: 30910\n",
      "Lable: 9\n"
     ]
    },
    {
     "data": {
      "image/png": "[encoded data removed]",
      "text/plain": [
       "<Figure size 432x288 with 1 Axes>"
      ]
     },
     "metadata": {
      "needs_background": "light"
     },
     "output_type": "display_data"
    },
    {
     "name": "stdout",
     "output_type": "stream",
     "text": [
      "index: 21104\n",
      "Lable: 8\n"
     ]
    },
    {
     "data": {
      "image/png": "[encoded data removed]",
      "text/plain": [
       "<Figure size 432x288 with 1 Axes>"
      ]
     },
     "metadata": {
      "needs_background": "light"
     },
     "output_type": "display_data"
    },
    {
     "name": "stdout",
     "output_type": "stream",
     "text": [
      "index: 10506\n",
      "Lable: 5\n"
     ]
    },
    {
     "data": {
      "image/png": "[encoded data removed]",
      "text/plain": [
       "<Figure size 432x288 with 1 Axes>"
      ]
     },
     "metadata": {
      "needs_background": "light"
     },
     "output_type": "display_data"
    },
    {
     "name": "stdout",
     "output_type": "stream",
     "text": [
      "index: 31084\n",
      "Lable: 1\n"
     ]
    },
    {
     "data": {
      "image/png": "[encoded data removed]",
      "text/plain": [
       "<Figure size 432x288 with 1 Axes>"
      ]
     },
     "metadata": {
      "needs_background": "light"
     },
     "output_type": "display_data"
    },
    {
     "name": "stdout",
     "output_type": "stream",
     "text": [
      "index: 23864\n",
      "Lable: 9\n"
     ]
    },
    {
     "data": {
      "image/png": "[encoded data removed]",
      "text/plain": [
       "<Figure size 432x288 with 1 Axes>"
      ]
     },
     "metadata": {
      "needs_background": "light"
     },
     "output_type": "display_data"
    },
    {
     "name": "stdout",
     "output_type": "stream",
     "text": [
      "index: 44314\n",
      "Lable: 0\n"
     ]
    },
    {
     "data": {
      "image/png": "[encoded data removed]",
      "text/plain": [
       "<Figure size 432x288 with 1 Axes>"
      ]
     },
     "metadata": {
      "needs_background": "light"
     },
     "output_type": "display_data"
    }
   ],
   "source": [
    "print(\"Randomly printing 10 images with labels from training dataset\")\n",
    "\n",
    "display_random_images_with_labels(dataset[0])"
   ]
  },
  {
   "cell_type": "code",
   "execution_count": 10,
   "id": "7db433a2",
   "metadata": {},
   "outputs": [
    {
     "name": "stdout",
     "output_type": "stream",
     "text": [
      "Randomly printing 10 images with labels from testing dataset\n",
      "index: 5910\n",
      "Lable: 5\n"
     ]
    },
    {
     "data": {
      "image/png": "[encoded data removed]",
      "text/plain": [
       "<Figure size 432x288 with 1 Axes>"
      ]
     },
     "metadata": {
      "needs_background": "light"
     },
     "output_type": "display_data"
    },
    {
     "name": "stdout",
     "output_type": "stream",
     "text": [
      "index: 4173\n",
      "Lable: 2\n"
     ]
    },
    {
     "data": {
      "image/png": "[encoded data removed]",
      "text/plain": [
       "<Figure size 432x288 with 1 Axes>"
      ]
     },
     "metadata": {
      "needs_background": "light"
     },
     "output_type": "display_data"
    },
    {
     "name": "stdout",
     "output_type": "stream",
     "text": [
      "index: 7231\n",
      "Lable: 0\n"
     ]
    },
    {
     "data": {
      "image/png": "[encoded data removed]",
      "text/plain": [
       "<Figure size 432x288 with 1 Axes>"
      ]
     },
     "metadata": {
      "needs_background": "light"
     },
     "output_type": "display_data"
    },
    {
     "name": "stdout",
     "output_type": "stream",
     "text": [
      "index: 1277\n",
      "Lable: 9\n"
     ]
    },
    {
     "data": {
      "image/png": "[encoded data removed]",
      "text/plain": [
       "<Figure size 432x288 with 1 Axes>"
      ]
     },
     "metadata": {
      "needs_background": "light"
     },
     "output_type": "display_data"
    },
    {
     "name": "stdout",
     "output_type": "stream",
     "text": [
      "index: 8244\n",
      "Lable: 1\n"
     ]
    },
    {
     "data": {
      "image/png": "[encoded data removed]",
      "text/plain": [
       "<Figure size 432x288 with 1 Axes>"
      ]
     },
     "metadata": {
      "needs_background": "light"
     },
     "output_type": "display_data"
    },
    {
     "name": "stdout",
     "output_type": "stream",
     "text": [
      "index: 3928\n",
      "Lable: 5\n"
     ]
    },
    {
     "data": {
      "image/png": "[encoded data removed]",
      "text/plain": [
       "<Figure size 432x288 with 1 Axes>"
      ]
     },
     "metadata": {
      "needs_background": "light"
     },
     "output_type": "display_data"
    },
    {
     "name": "stdout",
     "output_type": "stream",
     "text": [
      "index: 316\n",
      "Lable: 6\n"
     ]
    },
    {
     "data": {
      "image/png": "[encoded data removed]",
      "text/plain": [
       "<Figure size 432x288 with 1 Axes>"
      ]
     },
     "metadata": {
      "needs_background": "light"
     },
     "output_type": "display_data"
    },
    {
     "name": "stdout",
     "output_type": "stream",
     "text": [
      "index: 9028\n",
      "Lable: 9\n"
     ]
    },
    {
     "data": {
      "image/png": "[encoded data removed]",
      "text/plain": [
       "<Figure size 432x288 with 1 Axes>"
      ]
     },
     "metadata": {
      "needs_background": "light"
     },
     "output_type": "display_data"
    },
    {
     "name": "stdout",
     "output_type": "stream",
     "text": [
      "index: 4280\n",
      "Lable: 9\n"
     ]
    },
    {
     "data": {
      "image/png": "[encoded data removed]",
      "text/plain": [
       "<Figure size 432x288 with 1 Axes>"
      ]
     },
     "metadata": {
      "needs_background": "light"
     },
     "output_type": "display_data"
    },
    {
     "name": "stdout",
     "output_type": "stream",
     "text": [
      "index: 1223\n",
      "Lable: 0\n"
     ]
    },
    {
     "data": {
      "image/png": "[encoded data removed]",
      "text/plain": [
       "<Figure size 432x288 with 1 Axes>"
      ]
     },
     "metadata": {
      "needs_background": "light"
     },
     "output_type": "display_data"
    }
   ],
   "source": [
    "print(\"Randomly printing 10 images with labels from testing dataset\")\n",
    "\n",
    "display_random_images_with_labels(dataset[1])"
   ]
  },
  {
   "cell_type": "markdown",
   "id": "bb06489b",
   "metadata": {},
   "source": [
    "<b>Display the Training Dataset Unique Classes"
   ]
  },
  {
   "cell_type": "code",
   "execution_count": 11,
   "id": "7e4b5217",
   "metadata": {},
   "outputs": [
    {
     "name": "stdout",
     "output_type": "stream",
     "text": [
      "There are 10 unique classes in training dataset\n"
     ]
    }
   ],
   "source": [
    "print(\"There are\", len(set(dataset[0][1])),\"unique classes in training dataset\")"
   ]
  },
  {
   "cell_type": "code",
   "execution_count": 12,
   "id": "1b8c784b",
   "metadata": {},
   "outputs": [
    {
     "name": "stdout",
     "output_type": "stream",
     "text": [
      "Breakdown of each labels is below (format: dict key is label, dict value is occurrence of that label/ number of images for that label)\n"
     ]
    },
    {
     "data": {
      "text/plain": [
       "Counter({5: 5421,\n",
       "         0: 5923,\n",
       "         4: 5842,\n",
       "         1: 6742,\n",
       "         9: 5949,\n",
       "         2: 5958,\n",
       "         3: 6131,\n",
       "         6: 5918,\n",
       "         7: 6265,\n",
       "         8: 5851})"
      ]
     },
     "metadata": {},
     "output_type": "display_data"
    }
   ],
   "source": [
    "print(\"Breakdown of each labels is below (format: dict key is label, dict value is occurrence of that label/ number of images for that label)\")\n",
    "display(collections.Counter(dataset[0][1]))"
   ]
  },
  {
   "cell_type": "markdown",
   "id": "6b39643d",
   "metadata": {},
   "source": [
    "<b>Display the Testing Dataset unique Classes"
   ]
  },
  {
   "cell_type": "code",
   "execution_count": 13,
   "id": "34dcc3fd",
   "metadata": {
    "scrolled": true
   },
   "outputs": [
    {
     "name": "stdout",
     "output_type": "stream",
     "text": [
      "There are 10 unique classes in validation dataset\n"
     ]
    }
   ],
   "source": [
    "print(\"There are\", len(set(dataset[1][1])),\"unique classes in validation dataset\")"
   ]
  },
  {
   "cell_type": "code",
   "execution_count": 14,
   "id": "051f74c6",
   "metadata": {},
   "outputs": [
    {
     "name": "stdout",
     "output_type": "stream",
     "text": [
      "Breakdown of each labels is below (format: dict key is label, dict value is occurrence of that label/ number of images for that label)\n"
     ]
    },
    {
     "data": {
      "text/plain": [
       "Counter({7: 1028,\n",
       "         2: 1032,\n",
       "         1: 1135,\n",
       "         0: 980,\n",
       "         4: 982,\n",
       "         9: 1009,\n",
       "         5: 892,\n",
       "         6: 958,\n",
       "         3: 1010,\n",
       "         8: 974})"
      ]
     },
     "metadata": {},
     "output_type": "display_data"
    }
   ],
   "source": [
    "print(\"Breakdown of each labels is below (format: dict key is label, dict value is occurrence of that label/ number of images for that label)\")\n",
    "\n",
    "display(collections.Counter(dataset[1][1]))"
   ]
  },
  {
   "cell_type": "markdown",
   "id": "8c98e9a5",
   "metadata": {},
   "source": [
    "<h2>Task (Reduce the Size of Dataset 10 Times)"
   ]
  },
  {
   "cell_type": "code",
   "execution_count": 15,
   "id": "940ba499",
   "metadata": {},
   "outputs": [],
   "source": [
    "# Define the Unique Classes with Value 0\n",
    "def classesCount():\n",
    "    classes = {\"0\":0, \"1\":0, \"2\":0, \"3\":0, \"4\":0, \"5\":0, \"6\":0, \"7\":0, \"8\":0, \"9\":0}\n",
    "    return classes\n",
    "\n",
    "def classesIndex():\n",
    "    classes = {\"0\":[], \"1\":[], \"2\":[], \"3\":[], \"4\":[], \"5\":[], \"6\":[], \"7\":[], \"8\":[], \"9\":[]}\n",
    "    return classes\n",
    "\n",
    "# Get the Images with the The Help of Indexing \n",
    "def getImages(classesIndex , checker): \n",
    "    images = []\n",
    "    labels = []\n",
    "    index = 0 \n",
    "    for data in [\"0\" , \"1\" , \"2\" , \"3\" , \"4\" , \"5\" , \"6\" , \"7\" , \"8\" , \"9\"]:\n",
    "        classIndex = classesIndex[data]\n",
    "        for class_index in classIndex:\n",
    "            images.append(dataset[checker][0][class_index])\n",
    "            labels.append(int(data))\n",
    "            index += 1\n",
    "    return images , labels"
   ]
  },
  {
   "cell_type": "code",
   "execution_count": 16,
   "id": "68b5d80d",
   "metadata": {},
   "outputs": [],
   "source": [
    "def reduceDataset(dataset , classCount , classIndex , checker):\n",
    "    \n",
    "    Count = classCount    # Get the Each Class Count\n",
    "    Index = classIndex    # Get the Each Class Index\n",
    "    \n",
    "    allImages = list(dataset[checker][0])  # Get the All Images\n",
    "    allLabels = list(dataset[checker][1])  # Get the All Labels of the Images\n",
    "    \n",
    "    # Get the Training or Testing Data with the Help of Checker Variable\n",
    "    checkDataset = lambda checker: 600 if checker == 0 else 100\n",
    "    \n",
    "    for index in range(0,len(allLabels)):\n",
    "        # Get the (one by one) Label by using Indexing\n",
    "        label = allLabels[index] \n",
    "\n",
    "        # Get the Class Label from Count Variable\n",
    "        countLabel = Count[str(label)] \n",
    "\n",
    "        if countLabel != checkDataset(checker):    #  --> Here we Apply the Condition 100/600\n",
    "            countLabel += 1\n",
    "            Count[str(label)] = countLabel\n",
    "\n",
    "            # Get the Each Class Indexes\n",
    "            listClassIndexes = Index[str(label)]\n",
    "            listClassIndexes.append(index)\n",
    "            Index[str(label)] = listClassIndexes\n",
    "    \n",
    "    return Index , Count"
   ]
  },
  {
   "cell_type": "markdown",
   "id": "29eecf5d",
   "metadata": {},
   "source": [
    "<b>Train Dataset Reduce"
   ]
  },
  {
   "cell_type": "code",
   "execution_count": 17,
   "id": "e15f5f6e",
   "metadata": {},
   "outputs": [],
   "source": [
    "countClassess = classesCount()\n",
    "indexClasses  = classesIndex()\n",
    "\n",
    "classIndexesTrain , classCountTrain = reduceDataset(dataset , countClassess , indexClasses , 0)"
   ]
  },
  {
   "cell_type": "markdown",
   "id": "dc5403ff",
   "metadata": {},
   "source": [
    "<b>Test Data Reduce"
   ]
  },
  {
   "cell_type": "code",
   "execution_count": 18,
   "id": "2d99aea6",
   "metadata": {},
   "outputs": [],
   "source": [
    "countClassess = classesCount()\n",
    "indexClasses  = classesIndex()\n",
    "\n",
    "classIndexesTest , classCountTest = reduceDataset(dataset , countClassess , indexClasses , 1)"
   ]
  },
  {
   "cell_type": "markdown",
   "id": "2d9cffba",
   "metadata": {},
   "source": [
    "<b>Create the New Dataset "
   ]
  },
  {
   "cell_type": "code",
   "execution_count": 19,
   "id": "9d29e5df",
   "metadata": {},
   "outputs": [],
   "source": [
    "# Get the Train Images and Labels\n",
    "imagesTrainDataset ,labelTarinDataset = getImages(classIndexesTrain , 0)\n",
    "\n",
    "# Get the Test Images and Labels\n",
    "imagesTestDataset , labelTestData =  getImages(classIndexesTest , 1)"
   ]
  },
  {
   "cell_type": "code",
   "execution_count": 20,
   "id": "d3e6ae4f",
   "metadata": {},
   "outputs": [],
   "source": [
    "# Create the New Dataset\n",
    "new_dataset = ((np.array(imagesTrainDataset) , np.array(labelTarinDataset)),(np.array(imagesTestDataset) , np.array(labelTestData)))"
   ]
  },
  {
   "cell_type": "markdown",
   "id": "84f147f4",
   "metadata": {},
   "source": [
    "<h2> Validation of Task"
   ]
  },
  {
   "cell_type": "code",
   "execution_count": 21,
   "id": "82fb0137",
   "metadata": {},
   "outputs": [
    {
     "name": "stdout",
     "output_type": "stream",
     "text": [
      "(28, 28)\n"
     ]
    }
   ],
   "source": [
    "# Checking the shape of first image in new training dataset\n",
    "print(new_dataset[0][0][0].shape)"
   ]
  },
  {
   "cell_type": "markdown",
   "id": "d7e03dca",
   "metadata": {},
   "source": [
    "<b>Checking the size of dataset"
   ]
  },
  {
   "cell_type": "code",
   "execution_count": 22,
   "id": "7196eb63",
   "metadata": {},
   "outputs": [
    {
     "name": "stdout",
     "output_type": "stream",
     "text": [
      "There are 6000 labels in training dataset for 6000 images in training dataset\n",
      "There are 1000 labels in training dataset for 1000 images in training dataset\n"
     ]
    }
   ],
   "source": [
    "print(\"There are\",len(new_dataset[0][1]),\"labels in training dataset for\",len(new_dataset[0][0]),\"images in training dataset\")\n",
    "print(\"There are\",len(new_dataset[1][1]),\"labels in training dataset for\",len(new_dataset[1][0]),\"images in training dataset\")"
   ]
  },
  {
   "cell_type": "markdown",
   "id": "aa79140a",
   "metadata": {},
   "source": [
    "<b>Checking the number of images per class"
   ]
  },
  {
   "cell_type": "code",
   "execution_count": 23,
   "id": "478eee83",
   "metadata": {},
   "outputs": [
    {
     "name": "stdout",
     "output_type": "stream",
     "text": [
      "There are 10 unique classes in training dataset\n"
     ]
    }
   ],
   "source": [
    "print(\"There are\", len(set(new_dataset[0][1])),\"unique classes in training dataset\")"
   ]
  },
  {
   "cell_type": "code",
   "execution_count": 24,
   "id": "fe069820",
   "metadata": {},
   "outputs": [
    {
     "name": "stdout",
     "output_type": "stream",
     "text": [
      "Breakdown of each labels is below (format: dict key is label, dict value is occurrence of that label/ number of images for that label)\n"
     ]
    },
    {
     "data": {
      "text/plain": [
       "Counter({0: 600,\n",
       "         1: 600,\n",
       "         2: 600,\n",
       "         3: 600,\n",
       "         4: 600,\n",
       "         5: 600,\n",
       "         6: 600,\n",
       "         7: 600,\n",
       "         8: 600,\n",
       "         9: 600})"
      ]
     },
     "metadata": {},
     "output_type": "display_data"
    }
   ],
   "source": [
    "print(\"Breakdown of each labels is below (format: dict key is label, dict value is occurrence of that label/ number of images for that label)\")\n",
    "\n",
    "display(collections.Counter(new_dataset[0][1]))"
   ]
  },
  {
   "cell_type": "code",
   "execution_count": 25,
   "id": "d0bf55e9",
   "metadata": {},
   "outputs": [
    {
     "name": "stdout",
     "output_type": "stream",
     "text": [
      "There are 10 unique classes in validation dataset\n"
     ]
    }
   ],
   "source": [
    "print(\"There are\", len(set(new_dataset[1][1])),\"unique classes in validation dataset\")"
   ]
  },
  {
   "cell_type": "code",
   "execution_count": 26,
   "id": "611e2569",
   "metadata": {},
   "outputs": [
    {
     "name": "stdout",
     "output_type": "stream",
     "text": [
      "Breakdown of each labels is below (format: dict key is label, dict value is occurrence of that label/ number of images for that label)\n"
     ]
    },
    {
     "data": {
      "text/plain": [
       "Counter({0: 100,\n",
       "         1: 100,\n",
       "         2: 100,\n",
       "         3: 100,\n",
       "         4: 100,\n",
       "         5: 100,\n",
       "         6: 100,\n",
       "         7: 100,\n",
       "         8: 100,\n",
       "         9: 100})"
      ]
     },
     "metadata": {},
     "output_type": "display_data"
    }
   ],
   "source": [
    "print(\"Breakdown of each labels is below (format: dict key is label, dict value is occurrence of that label/ number of images for that label)\")\n",
    "\n",
    "display(collections.Counter(new_dataset[1][1]))"
   ]
  },
  {
   "cell_type": "markdown",
   "id": "ea585a88",
   "metadata": {},
   "source": [
    "<b>Checking the correctness of indexing of image and its labels"
   ]
  },
  {
   "cell_type": "code",
   "execution_count": 27,
   "id": "5b4478b6",
   "metadata": {},
   "outputs": [
    {
     "name": "stdout",
     "output_type": "stream",
     "text": [
      "Randomly printing 10 images with labels from training dataset\n",
      "index: 5434\n",
      "Lable: 9\n"
     ]
    },
    {
     "data": {
      "image/png": "[encoded data removed]",
      "text/plain": [
       "<Figure size 432x288 with 1 Axes>"
      ]
     },
     "metadata": {
      "needs_background": "light"
     },
     "output_type": "display_data"
    },
    {
     "name": "stdout",
     "output_type": "stream",
     "text": [
      "index: 798\n",
      "Lable: 1\n"
     ]
    },
    {
     "data": {
      "image/png": "[encoded data removed]",
      "text/plain": [
       "<Figure size 432x288 with 1 Axes>"
      ]
     },
     "metadata": {
      "needs_background": "light"
     },
     "output_type": "display_data"
    },
    {
     "name": "stdout",
     "output_type": "stream",
     "text": [
      "index: 3479\n",
      "Lable: 5\n"
     ]
    },
    {
     "data": {
      "image/png": "[encoded data removed]",
      "text/plain": [
       "<Figure size 432x288 with 1 Axes>"
      ]
     },
     "metadata": {
      "needs_background": "light"
     },
     "output_type": "display_data"
    },
    {
     "name": "stdout",
     "output_type": "stream",
     "text": [
      "index: 3932\n",
      "Lable: 6\n"
     ]
    },
    {
     "data": {
      "image/png": "[encoded data removed]",
      "text/plain": [
       "<Figure size 432x288 with 1 Axes>"
      ]
     },
     "metadata": {
      "needs_background": "light"
     },
     "output_type": "display_data"
    },
    {
     "name": "stdout",
     "output_type": "stream",
     "text": [
      "index: 1026\n",
      "Lable: 1\n"
     ]
    },
    {
     "data": {
      "image/png": "[encoded data removed]",
      "text/plain": [
       "<Figure size 432x288 with 1 Axes>"
      ]
     },
     "metadata": {
      "needs_background": "light"
     },
     "output_type": "display_data"
    },
    {
     "name": "stdout",
     "output_type": "stream",
     "text": [
      "index: 5300\n",
      "Lable: 8\n"
     ]
    },
    {
     "data": {
      "image/png": "[encoded data removed]",
      "text/plain": [
       "<Figure size 432x288 with 1 Axes>"
      ]
     },
     "metadata": {
      "needs_background": "light"
     },
     "output_type": "display_data"
    },
    {
     "name": "stdout",
     "output_type": "stream",
     "text": [
      "index: 4307\n",
      "Lable: 7\n"
     ]
    },
    {
     "data": {
      "image/png": "[encoded data removed]",
      "text/plain": [
       "<Figure size 432x288 with 1 Axes>"
      ]
     },
     "metadata": {
      "needs_background": "light"
     },
     "output_type": "display_data"
    },
    {
     "name": "stdout",
     "output_type": "stream",
     "text": [
      "index: 1103\n",
      "Lable: 1\n"
     ]
    },
    {
     "data": {
      "image/png": "[encoded data removed]",
      "text/plain": [
       "<Figure size 432x288 with 1 Axes>"
      ]
     },
     "metadata": {
      "needs_background": "light"
     },
     "output_type": "display_data"
    },
    {
     "name": "stdout",
     "output_type": "stream",
     "text": [
      "index: 2113\n",
      "Lable: 3\n"
     ]
    },
    {
     "data": {
      "image/png": "[encoded data removed]",
      "text/plain": [
       "<Figure size 432x288 with 1 Axes>"
      ]
     },
     "metadata": {
      "needs_background": "light"
     },
     "output_type": "display_data"
    },
    {
     "name": "stdout",
     "output_type": "stream",
     "text": [
      "index: 4726\n",
      "Lable: 7\n"
     ]
    },
    {
     "data": {
      "image/png": "[encoded data removed]",
      "text/plain": [
       "<Figure size 432x288 with 1 Axes>"
      ]
     },
     "metadata": {
      "needs_background": "light"
     },
     "output_type": "display_data"
    }
   ],
   "source": [
    "print(\"Randomly printing 10 images with labels from training dataset\")\n",
    "\n",
    "display_random_images_with_labels(new_dataset[0])"
   ]
  },
  {
   "cell_type": "code",
   "execution_count": 28,
   "id": "18a5469c",
   "metadata": {
    "collapsed": true
   },
   "outputs": [
    {
     "name": "stdout",
     "output_type": "stream",
     "text": [
      "Randomly printing 10 images with labels from testing dataset\n",
      "index: 716\n",
      "Lable: 7\n"
     ]
    },
    {
     "data": {
      "image/png": "[encoded data removed]",
      "text/plain": [
       "<Figure size 432x288 with 1 Axes>"
      ]
     },
     "metadata": {
      "needs_background": "light"
     },
     "output_type": "display_data"
    },
    {
     "name": "stdout",
     "output_type": "stream",
     "text": [
      "index: 514\n",
      "Lable: 5\n"
     ]
    },
    {
     "data": {
      "image/png": "[encoded data removed]",
      "text/plain": [
       "<Figure size 432x288 with 1 Axes>"
      ]
     },
     "metadata": {
      "needs_background": "light"
     },
     "output_type": "display_data"
    },
    {
     "name": "stdout",
     "output_type": "stream",
     "text": [
      "index: 745\n",
      "Lable: 7\n"
     ]
    },
    {
     "data": {
      "image/png": "[encoded data removed]",
      "text/plain": [
       "<Figure size 432x288 with 1 Axes>"
      ]
     },
     "metadata": {
      "needs_background": "light"
     },
     "output_type": "display_data"
    },
    {
     "name": "stdout",
     "output_type": "stream",
     "text": [
      "index: 336\n",
      "Lable: 3\n"
     ]
    },
    {
     "data": {
      "image/png": "[encoded data removed]",
      "text/plain": [
       "<Figure size 432x288 with 1 Axes>"
      ]
     },
     "metadata": {
      "needs_background": "light"
     },
     "output_type": "display_data"
    },
    {
     "name": "stdout",
     "output_type": "stream",
     "text": [
      "index: 283\n",
      "Lable: 2\n"
     ]
    },
    {
     "data": {
      "image/png": "[encoded data removed]",
      "text/plain": [
       "<Figure size 432x288 with 1 Axes>"
      ]
     },
     "metadata": {
      "needs_background": "light"
     },
     "output_type": "display_data"
    },
    {
     "name": "stdout",
     "output_type": "stream",
     "text": [
      "index: 220\n",
      "Lable: 2\n"
     ]
    },
    {
     "data": {
      "image/png": "[encoded data removed]",
      "text/plain": [
       "<Figure size 432x288 with 1 Axes>"
      ]
     },
     "metadata": {
      "needs_background": "light"
     },
     "output_type": "display_data"
    },
    {
     "name": "stdout",
     "output_type": "stream",
     "text": [
      "index: 307\n",
      "Lable: 3\n"
     ]
    },
    {
     "data": {
      "image/png": "[encoded data removed]",
      "text/plain": [
       "<Figure size 432x288 with 1 Axes>"
      ]
     },
     "metadata": {
      "needs_background": "light"
     },
     "output_type": "display_data"
    },
    {
     "name": "stdout",
     "output_type": "stream",
     "text": [
      "index: 820\n",
      "Lable: 8\n"
     ]
    },
    {
     "data": {
      "image/png": "[encoded data removed]",
      "text/plain": [
       "<Figure size 432x288 with 1 Axes>"
      ]
     },
     "metadata": {
      "needs_background": "light"
     },
     "output_type": "display_data"
    },
    {
     "name": "stdout",
     "output_type": "stream",
     "text": [
      "index: 254\n",
      "Lable: 2\n"
     ]
    },
    {
     "data": {
      "image/png": "[encoded data removed]",
      "text/plain": [
       "<Figure size 432x288 with 1 Axes>"
      ]
     },
     "metadata": {
      "needs_background": "light"
     },
     "output_type": "display_data"
    },
    {
     "name": "stdout",
     "output_type": "stream",
     "text": [
      "index: 848\n",
      "Lable: 8\n"
     ]
    },
    {
     "data": {
      "image/png": "[encoded data removed]",
      "text/plain": [
       "<Figure size 432x288 with 1 Axes>"
      ]
     },
     "metadata": {
      "needs_background": "light"
     },
     "output_type": "display_data"
    }
   ],
   "source": [
    "print(\"Randomly printing 10 images with labels from testing dataset\")\n",
    "\n",
    "display_random_images_with_labels(new_dataset[1])"
   ]
  }
 ],
 "metadata": {
  "kernelspec": {
   "display_name": "Python 3 (ipykernel)",
   "language": "python",
   "name": "python3"
  },
  "language_info": {
   "codemirror_mode": {
    "name": "ipython",
    "version": 3
   },
   "file_extension": ".py",
   "mimetype": "text/x-python",
   "name": "python",
   "nbconvert_exporter": "python",
   "pygments_lexer": "ipython3",
   "version": "3.9.12"
  }
 },
 "nbformat": 4,
 "nbformat_minor": 5
}
