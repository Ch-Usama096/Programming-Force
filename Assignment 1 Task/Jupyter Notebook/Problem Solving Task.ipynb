{
 "cells": [
  {
   "cell_type": "markdown",
   "id": "5a4e5065",
   "metadata": {},
   "source": [
    "<b>Modules"
   ]
  },
  {
   "cell_type": "code",
   "execution_count": 1,
   "id": "aaa0083d",
   "metadata": {},
   "outputs": [],
   "source": [
    "import numpy as np\n",
    "import pandas as pd\n",
    "import matplotlib.pyplot as plt\n",
    "import seaborn as sns"
   ]
  },
  {
   "cell_type": "markdown",
   "id": "161ea281",
   "metadata": {},
   "source": [
    "<b>Define the Solution"
   ]
  },
  {
   "cell_type": "code",
   "execution_count": 2,
   "id": "1196770e",
   "metadata": {},
   "outputs": [],
   "source": [
    "def solution(m , f):\n",
    "    # Convert the m & f into Integer\n",
    "    M = int(m)\n",
    "    F = int(f)\n",
    "    \n",
    "    # Define the Generations\n",
    "    gen = 0\n",
    "    \n",
    "    while M > 1 or F > 1:\n",
    "        \n",
    "        if M > F:\n",
    "            M = M - F\n",
    "            gen += 1\n",
    "        \n",
    "        elif F > M:\n",
    "            F = F - M\n",
    "            gen += 1\n",
    "         \n",
    "        elif F == M:\n",
    "            break\n",
    "    \n",
    "    if M & F == 1:\n",
    "        return str(gen)\n",
    "    \n",
    "    return \"impossible\""
   ]
  },
  {
   "cell_type": "markdown",
   "id": "8e8bad9c",
   "metadata": {},
   "source": [
    "<b>Test the Solution"
   ]
  },
  {
   "cell_type": "code",
   "execution_count": 3,
   "id": "d53b4862",
   "metadata": {},
   "outputs": [
    {
     "name": "stdout",
     "output_type": "stream",
     "text": [
      "7\n"
     ]
    }
   ],
   "source": [
    "res = solution(\"2\" , \"13\")\n",
    "print(res)"
   ]
  },
  {
   "cell_type": "code",
   "execution_count": null,
   "id": "376d8e4a",
   "metadata": {},
   "outputs": [],
   "source": []
  }
 ],
 "metadata": {
  "kernelspec": {
   "display_name": "Python 3 (ipykernel)",
   "language": "python",
   "name": "python3"
  },
  "language_info": {
   "codemirror_mode": {
    "name": "ipython",
    "version": 3
   },
   "file_extension": ".py",
   "mimetype": "text/x-python",
   "name": "python",
   "nbconvert_exporter": "python",
   "pygments_lexer": "ipython3",
   "version": "3.9.12"
  }
 },
 "nbformat": 4,
 "nbformat_minor": 5
}
